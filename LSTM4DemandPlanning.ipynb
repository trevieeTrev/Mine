import numpy as np
import pandas as pd
import matplotlib.pyplot as plt
import alpha_vantage
from sklearn import linear_model
from sklearn.linear_model import LinearRegression
from keras.layers import Dense, Activation, Dropout
from keras.layers import LSTM
from keras.models import Sequential
from sklearn.neural_network import MLPClassifier
from sklearn.linear_model import Lasso
from pandas import Series
import time
import csv 
import json
import sys
from sklearn.model_selection import TimeSeriesSplit
from sklearn.decomposition import PCA
from sklearn.tree import DecisionTreeClassifier
from sklearn.tree import DecisionTreeRegressor
from alpha_vantage.timeseries import TimeSeries
from alpha_vantage.techindicators import TechIndicators
from sklearn.preprocessing import StandardScaler
from sklearn.utils import resample
from sklearn.model_selection import train_test_split, GridSearchCV, TimeSeriesSplit
from sklearn.metrics import accuracy_score, f1_score, roc_auc_score,mean_squared_error
from sklearn.naive_bayes import GaussianNB
from sklearn.svm import SVC
from sklearn.ensemble import RandomForestClassifier
from sklearn.neural_network import MLPClassifier
from ta import *
from sklearn.preprocessing import MinMaxScaler
import math
from sklearn import linear_model
from sklearn.pipeline import Pipeline
from IPython.display import display
import io
import os
from keras.utils import plot_model,model_to_dot
from IPython.display import SVG
from datetime import datetime
import tensorflow as tf
from tensorflow import keras





data = pd.DataFrame()
data = pd.read_csv('3573OrangeJuiceDemand.csv', header=0, encoding = 'unicode_escape', index_col='Row Labels')
data = data.drop(['Rounded # of Boxes', 'day of week','Unnamed: 8','Unnamed: 9'], axis=1)
data.dropna()
print(data)




def train_test_split_lstm(days, prediction_time=1, test_data_size=133, unroll_length=6):
    
    # training data
    test_data_cut = test_data_size + unroll_length + 1

    x_train = days[0:-prediction_time - test_data_cut].values
    y_train = days[prediction_time:-test_data_cut]['# of Boxes'].values

    # test data
    x_test = days[0 - test_data_cut:-prediction_time].values
    y_test = days[prediction_time - test_data_cut:]['# of Boxes'].values

    return x_train, x_test, y_train, y_test

# sequence_length=12<-do not erase this 
def unroll(data, sequence_length=6):
    
    result = []
    for index in range(len(data) - sequence_length):
        result.append(data[index: index + sequence_length])
    return np.asarray(result)
#print(data1_normalized.head(1))
xTrain, xTest,yTrain, yTest = train_test_split_lstm(data)

unroll_length = 6

xTrain = unroll(xTrain, unroll_length)
xTest = unroll(xTest, unroll_length)
yTrain = yTrain[-xTrain.shape[0]:]
yTest = yTest[-xTest.shape[0]:]


## Get the shapes of the data
print("x_train", xTrain.shape)
print("y_train", yTrain.shape)
print("x_test", xTest.shape)
print("y_test", yTest.shape)
os.environ['KMP_DUPLICATE_LIB_OK']='True'
