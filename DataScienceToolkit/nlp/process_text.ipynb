{
 "cells": [
  {
   "cell_type": "markdown",
   "id": "291b65cb",
   "metadata": {},
   "source": [
    "# Word Ninja: Slice Your Lumped-Together Words"
   ]
  },
  {
   "cell_type": "code",
   "execution_count": null,
   "id": "10b26a0d",
   "metadata": {
    "ExecuteTime": {
     "end_time": "2022-11-17T01:24:16.333450Z",
     "start_time": "2022-11-17T01:24:12.985717Z"
    }
   },
   "outputs": [],
   "source": [
    "!pip install wordninja "
   ]
  },
  {
   "cell_type": "code",
   "execution_count": 2,
   "id": "e91409b2",
   "metadata": {
    "ExecuteTime": {
     "end_time": "2022-11-17T01:24:27.011724Z",
     "start_time": "2022-11-17T01:24:26.833841Z"
    }
   },
   "outputs": [
    {
     "data": {
      "text/plain": [
       "['honey', 'in', 'the', 'jar']"
      ]
     },
     "execution_count": 2,
     "metadata": {},
     "output_type": "execute_result"
    }
   ],
   "source": [
    "import wordninja \n",
    "\n",
    "wordninja.split(\"honeyinthejar\")"
   ]
  },
  {
   "cell_type": "code",
   "execution_count": 9,
   "id": "723ef974",
   "metadata": {
    "ExecuteTime": {
     "end_time": "2022-11-17T01:24:32.488037Z",
     "start_time": "2022-11-17T01:24:32.478949Z"
    }
   },
   "outputs": [
    {
     "data": {
      "text/plain": [
       "['i', 'have', 'two', 'apples']"
      ]
     },
     "execution_count": 9,
     "metadata": {},
     "output_type": "execute_result"
    }
   ],
   "source": [
    "wordninja.split(\"ihavetwoapples\")"
   ]
  },
  {
   "cell_type": "code",
   "execution_count": 10,
   "id": "d317bd5e",
   "metadata": {
    "ExecuteTime": {
     "end_time": "2022-11-17T01:24:36.706202Z",
     "start_time": "2022-11-17T01:24:36.696464Z"
    }
   },
   "outputs": [
    {
     "data": {
      "text/plain": [
       "['a', 'rather', 'bluster', 'day']"
      ]
     },
     "execution_count": 10,
     "metadata": {},
     "output_type": "execute_result"
    }
   ],
   "source": [
    "wordninja.split(\"aratherblusterday\")"
   ]
  },
  {
   "cell_type": "markdown",
   "id": "230d7a18",
   "metadata": {},
   "source": [
    "# Expand English Contractions "
   ]
  },
  {
   "cell_type": "code",
   "execution_count": null,
   "id": "7e54cb33",
   "metadata": {},
   "outputs": [],
   "source": [
    "!pip install contractions"
   ]
  },
  {
   "cell_type": "code",
   "execution_count": 3,
   "id": "e9844d70",
   "metadata": {
    "ExecuteTime": {
     "end_time": "2022-11-17T01:25:18.867550Z",
     "start_time": "2022-11-17T01:25:18.846087Z"
    }
   },
   "outputs": [
    {
     "data": {
      "text/plain": [
       "'I am not sure, but I would like to do it'"
      ]
     },
     "execution_count": 3,
     "metadata": {},
     "output_type": "execute_result"
    }
   ],
   "source": [
    "import contractions\n",
    "\n",
    "sent = \"I'm not sure, but I'd like to do it\"\n",
    "\n",
    "contractions.fix(sent)"
   ]
  },
  {
   "attachments": {},
   "cell_type": "markdown",
   "id": "6b86907f",
   "metadata": {},
   "source": [
    "# Deal with Numbers and Singular Verbs"
   ]
  },
  {
   "cell_type": "code",
   "execution_count": null,
   "id": "921a6d92",
   "metadata": {
    "ExecuteTime": {
     "end_time": "2022-11-17T01:25:51.193887Z",
     "start_time": "2022-11-17T01:25:47.672046Z"
    }
   },
   "outputs": [],
   "source": [
    "!pip install inflect "
   ]
  },
  {
   "cell_type": "code",
   "execution_count": 7,
   "id": "80688c35",
   "metadata": {
    "ExecuteTime": {
     "end_time": "2022-11-17T01:25:52.851384Z",
     "start_time": "2022-11-17T01:25:52.807239Z"
    }
   },
   "outputs": [],
   "source": [
    "import inflect\n",
    "\n",
    "p = inflect.engine()"
   ]
  },
  {
   "cell_type": "code",
   "execution_count": 15,
   "id": "870f938c",
   "metadata": {
    "ExecuteTime": {
     "end_time": "2022-11-17T01:26:03.727213Z",
     "start_time": "2022-11-17T01:26:03.718169Z"
    }
   },
   "outputs": [
    {
     "data": {
      "text/plain": [
       "'see'"
      ]
     },
     "execution_count": 15,
     "metadata": {},
     "output_type": "execute_result"
    }
   ],
   "source": [
    "p.plural_verb('sees')"
   ]
  },
  {
   "cell_type": "code",
   "execution_count": 8,
   "id": "0fd29197",
   "metadata": {},
   "outputs": [
    {
     "data": {
      "text/plain": [
       "'cake'"
      ]
     },
     "execution_count": 8,
     "metadata": {},
     "output_type": "execute_result"
    }
   ],
   "source": [
    "p.singular_noun('cakes')"
   ]
  },
  {
   "cell_type": "code",
   "execution_count": 22,
   "id": "8a156b95",
   "metadata": {
    "ExecuteTime": {
     "end_time": "2022-11-17T01:28:43.125807Z",
     "start_time": "2022-11-17T01:28:43.117141Z"
    }
   },
   "outputs": [
    {
     "data": {
      "text/plain": [
       "'two thousand and nineteen'"
      ]
     },
     "execution_count": 22,
     "metadata": {},
     "output_type": "execute_result"
    }
   ],
   "source": [
    "p.number_to_words(2019)"
   ]
  }
 ],
 "metadata": {
  "kernelspec": {
   "display_name": "venv",
   "language": "python",
   "name": "python3"
  },
  "language_info": {
   "codemirror_mode": {
    "name": "ipython",
    "version": 3
   },
   "file_extension": ".py",
   "mimetype": "text/x-python",
   "name": "python",
   "nbconvert_exporter": "python",
   "pygments_lexer": "ipython3",
   "version": "3.9.15 (main, Oct 11 2022, 21:39:54) \n[Clang 14.0.0 (clang-1400.0.29.102)]"
  },
  "toc": {
   "base_numbering": 1,
   "nav_menu": {},
   "number_sections": true,
   "sideBar": true,
   "skip_h1_title": false,
   "title_cell": "Table of Contents",
   "title_sidebar": "Contents",
   "toc_cell": false,
   "toc_position": {},
   "toc_section_display": true,
   "toc_window_display": false
  },
  "vscode": {
   "interpreter": {
    "hash": "478cc5ef0f338997730d9103983e193fe6c3c8e58abb3c8c0481de8a2f51bddc"
   }
  }
 },
 "nbformat": 4,
 "nbformat_minor": 5
}
