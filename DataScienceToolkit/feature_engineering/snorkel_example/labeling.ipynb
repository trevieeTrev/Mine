{
 "cells": [
  {
   "cell_type": "code",
   "execution_count": null,
   "id": "97b6ba07",
   "metadata": {
    "ExecuteTime": {
     "end_time": "2022-01-26T02:27:42.311724Z",
     "start_time": "2022-01-26T02:27:36.387472Z"
    }
   },
   "outputs": [],
   "source": [
    "!pip install snorkel "
   ]
  },
  {
   "cell_type": "markdown",
   "id": "4df8e7c2",
   "metadata": {},
   "source": [
    "# Load Data"
   ]
  },
  {
   "cell_type": "code",
   "execution_count": 15,
   "id": "1f434d7b",
   "metadata": {
    "ExecuteTime": {
     "end_time": "2022-01-30T20:54:10.410728Z",
     "start_time": "2022-01-30T20:54:10.145924Z"
    }
   },
   "outputs": [],
   "source": [
    "import pandas as pd"
   ]
  },
  {
   "cell_type": "code",
   "execution_count": 16,
   "id": "958e2d26",
   "metadata": {
    "ExecuteTime": {
     "end_time": "2022-01-30T20:54:13.659821Z",
     "start_time": "2022-01-30T20:54:10.584126Z"
    }
   },
   "outputs": [],
   "source": [
    "train_df = pd.read_pickle(\n",
    "    \"https://github.com/khuyentran1401/Data-science/blob/master/feature_engineering/snorkel_example/train_fake_jobs.pkl?raw=true\"\n",
    ")\n",
    "test_df = pd.read_pickle(\n",
    "    \"https://github.com/khuyentran1401/Data-science/blob/master/feature_engineering/snorkel_example/test_fake_jobs.pkl?raw=true\"\n",
    ")"
   ]
  },
  {
   "cell_type": "code",
   "execution_count": 17,
   "id": "2b24867d",
   "metadata": {},
   "outputs": [
    {
     "data": {
      "text/html": [
       "<div>\n",
       "<style scoped>\n",
       "    .dataframe tbody tr th:only-of-type {\n",
       "        vertical-align: middle;\n",
       "    }\n",
       "\n",
       "    .dataframe tbody tr th {\n",
       "        vertical-align: top;\n",
       "    }\n",
       "\n",
       "    .dataframe thead th {\n",
       "        text-align: right;\n",
       "    }\n",
       "</style>\n",
       "<table border=\"1\" class=\"dataframe\">\n",
       "  <thead>\n",
       "    <tr style=\"text-align: right;\">\n",
       "      <th></th>\n",
       "      <th>job_id</th>\n",
       "      <th>title</th>\n",
       "      <th>location</th>\n",
       "      <th>department</th>\n",
       "      <th>salary_range</th>\n",
       "      <th>company_profile</th>\n",
       "      <th>description</th>\n",
       "      <th>requirements</th>\n",
       "      <th>benefits</th>\n",
       "      <th>telecommuting</th>\n",
       "      <th>has_company_logo</th>\n",
       "      <th>has_questions</th>\n",
       "      <th>employment_type</th>\n",
       "      <th>required_experience</th>\n",
       "      <th>required_education</th>\n",
       "      <th>industry</th>\n",
       "      <th>function</th>\n",
       "      <th>fraudulent</th>\n",
       "    </tr>\n",
       "  </thead>\n",
       "  <tbody>\n",
       "    <tr>\n",
       "      <th>12276</th>\n",
       "      <td>12277</td>\n",
       "      <td>Big Data Analyst</td>\n",
       "      <td>GB, WSM, London</td>\n",
       "      <td>Product Ops</td>\n",
       "      <td>NaN</td>\n",
       "      <td>Founded in 2010 by a team from Google’s London...</td>\n",
       "      <td>Qubit: Cutting Edge Big Data EngineeringQubit ...</td>\n",
       "      <td>What you'll need: A background in consulting, ...</td>\n",
       "      <td>Plenty of perks:As well as the opportunity to ...</td>\n",
       "      <td>0</td>\n",
       "      <td>1</td>\n",
       "      <td>1</td>\n",
       "      <td>Full-time</td>\n",
       "      <td>Associate</td>\n",
       "      <td>Bachelor's Degree</td>\n",
       "      <td>Internet</td>\n",
       "      <td>Product Management</td>\n",
       "      <td>0</td>\n",
       "    </tr>\n",
       "    <tr>\n",
       "      <th>14680</th>\n",
       "      <td>14681</td>\n",
       "      <td>Instructional Advocate</td>\n",
       "      <td>US, GA, Savannah</td>\n",
       "      <td>NaN</td>\n",
       "      <td>NaN</td>\n",
       "      <td>We are an after-school program committed to as...</td>\n",
       "      <td>21st Century Community Learning Centers is an ...</td>\n",
       "      <td>Bachelor's Degree or an Associate's Degree; or...</td>\n",
       "      <td>NaN</td>\n",
       "      <td>0</td>\n",
       "      <td>1</td>\n",
       "      <td>0</td>\n",
       "      <td>Part-time</td>\n",
       "      <td>NaN</td>\n",
       "      <td>NaN</td>\n",
       "      <td>NaN</td>\n",
       "      <td>Education</td>\n",
       "      <td>0</td>\n",
       "    </tr>\n",
       "    <tr>\n",
       "      <th>16518</th>\n",
       "      <td>16519</td>\n",
       "      <td>Software Developer</td>\n",
       "      <td>US, FL, Gainesville</td>\n",
       "      <td>NaN</td>\n",
       "      <td>NaN</td>\n",
       "      <td>352 Inc. is a full-service digital agency crea...</td>\n",
       "      <td>We partner with great clients to build smart s...</td>\n",
       "      <td>3-5 years of great c# work Experience in mvc o...</td>\n",
       "      <td>What You’ll GetFreedom: We trust you to do you...</td>\n",
       "      <td>0</td>\n",
       "      <td>1</td>\n",
       "      <td>0</td>\n",
       "      <td>Full-time</td>\n",
       "      <td>Mid-Senior level</td>\n",
       "      <td>NaN</td>\n",
       "      <td>Computer Software</td>\n",
       "      <td>Information Technology</td>\n",
       "      <td>0</td>\n",
       "    </tr>\n",
       "    <tr>\n",
       "      <th>15478</th>\n",
       "      <td>15479</td>\n",
       "      <td>Internship in India</td>\n",
       "      <td>IN, , Bangalore</td>\n",
       "      <td>NaN</td>\n",
       "      <td>NaN</td>\n",
       "      <td></td>\n",
       "      <td>London is a fast paced city of culture, divers...</td>\n",
       "      <td></td>\n",
       "      <td>As specialists in delivering high quality and ...</td>\n",
       "      <td>0</td>\n",
       "      <td>1</td>\n",
       "      <td>0</td>\n",
       "      <td>NaN</td>\n",
       "      <td>NaN</td>\n",
       "      <td>NaN</td>\n",
       "      <td>NaN</td>\n",
       "      <td>NaN</td>\n",
       "      <td>0</td>\n",
       "    </tr>\n",
       "    <tr>\n",
       "      <th>16348</th>\n",
       "      <td>16349</td>\n",
       "      <td>Web Developer Backend Microservices (m/f)</td>\n",
       "      <td>DE, BE, 10969</td>\n",
       "      <td>Engineering</td>\n",
       "      <td>NaN</td>\n",
       "      <td>airfy prägt sicheres und einfach zu bedienende...</td>\n",
       "      <td>Design and develop a microservice platform for...</td>\n",
       "      <td>Senior level experience with web backends, esp...</td>\n",
       "      <td>Flat hierarchies and a productive work environ...</td>\n",
       "      <td>0</td>\n",
       "      <td>1</td>\n",
       "      <td>0</td>\n",
       "      <td>Full-time</td>\n",
       "      <td>Associate</td>\n",
       "      <td>Bachelor's Degree</td>\n",
       "      <td>Internet</td>\n",
       "      <td>Engineering</td>\n",
       "      <td>0</td>\n",
       "    </tr>\n",
       "    <tr>\n",
       "      <th>...</th>\n",
       "      <td>...</td>\n",
       "      <td>...</td>\n",
       "      <td>...</td>\n",
       "      <td>...</td>\n",
       "      <td>...</td>\n",
       "      <td>...</td>\n",
       "      <td>...</td>\n",
       "      <td>...</td>\n",
       "      <td>...</td>\n",
       "      <td>...</td>\n",
       "      <td>...</td>\n",
       "      <td>...</td>\n",
       "      <td>...</td>\n",
       "      <td>...</td>\n",
       "      <td>...</td>\n",
       "      <td>...</td>\n",
       "      <td>...</td>\n",
       "      <td>...</td>\n",
       "    </tr>\n",
       "    <tr>\n",
       "      <th>9225</th>\n",
       "      <td>9226</td>\n",
       "      <td>Senior Tax Professional for Product Manager</td>\n",
       "      <td>US, CA, San Francisco</td>\n",
       "      <td>Product</td>\n",
       "      <td>100000-150000</td>\n",
       "      <td>Balanced Labs exists to provide accountants an...</td>\n",
       "      <td>Never before has a job in tax looked more inte...</td>\n",
       "      <td>10+ years tax experience. Extensive knowledge ...</td>\n",
       "      <td>NaN</td>\n",
       "      <td>0</td>\n",
       "      <td>1</td>\n",
       "      <td>1</td>\n",
       "      <td>Full-time</td>\n",
       "      <td>Director</td>\n",
       "      <td>Bachelor's Degree</td>\n",
       "      <td>Accounting</td>\n",
       "      <td>Strategy/Planning</td>\n",
       "      <td>0</td>\n",
       "    </tr>\n",
       "    <tr>\n",
       "      <th>13123</th>\n",
       "      <td>13124</td>\n",
       "      <td>QA Engineer</td>\n",
       "      <td>US, CA, San Mateo</td>\n",
       "      <td>NaN</td>\n",
       "      <td>NaN</td>\n",
       "      <td>Tile is one of the most successful crowd-funde...</td>\n",
       "      <td>The RoleHere at Tile, we are looking for a sma...</td>\n",
       "      <td>Mandatory Qualities Tech enthusiast, you love ...</td>\n",
       "      <td>Own equity in the company. Every employee is a...</td>\n",
       "      <td>0</td>\n",
       "      <td>1</td>\n",
       "      <td>0</td>\n",
       "      <td>Full-time</td>\n",
       "      <td>Associate</td>\n",
       "      <td>Bachelor's Degree</td>\n",
       "      <td>Consumer Electronics</td>\n",
       "      <td>Engineering</td>\n",
       "      <td>0</td>\n",
       "    </tr>\n",
       "    <tr>\n",
       "      <th>9845</th>\n",
       "      <td>9846</td>\n",
       "      <td>Senior QA Engineer</td>\n",
       "      <td>IN, , Hyderabad</td>\n",
       "      <td>Information Technology</td>\n",
       "      <td>NaN</td>\n",
       "      <td>#url_ddb080358fa5eecf5a67c649cfb4ffc343c484389...</td>\n",
       "      <td>Responsibilities:* Acquire and maintain a comp...</td>\n",
       "      <td>Required Skills and Experience: Minimum of fiv...</td>\n",
       "      <td>What Is OfferedOur client's core values drive ...</td>\n",
       "      <td>0</td>\n",
       "      <td>1</td>\n",
       "      <td>1</td>\n",
       "      <td>Full-time</td>\n",
       "      <td>Mid-Senior level</td>\n",
       "      <td>Bachelor's Degree</td>\n",
       "      <td>Marketing and Advertising</td>\n",
       "      <td>Engineering</td>\n",
       "      <td>1</td>\n",
       "    </tr>\n",
       "    <tr>\n",
       "      <th>10799</th>\n",
       "      <td>10800</td>\n",
       "      <td>Customer Service Associate</td>\n",
       "      <td>US, CT, Hartford</td>\n",
       "      <td>NaN</td>\n",
       "      <td>NaN</td>\n",
       "      <td>Novitex Enterprise Solutions, formerly Pitney ...</td>\n",
       "      <td>We are currently seeking a Customer Service As...</td>\n",
       "      <td>Minimum Requirements: Minimum of 2 years custo...</td>\n",
       "      <td>NaN</td>\n",
       "      <td>0</td>\n",
       "      <td>1</td>\n",
       "      <td>0</td>\n",
       "      <td>Full-time</td>\n",
       "      <td>Entry level</td>\n",
       "      <td>High School or equivalent</td>\n",
       "      <td>Facilities Services</td>\n",
       "      <td>Customer Service</td>\n",
       "      <td>0</td>\n",
       "    </tr>\n",
       "    <tr>\n",
       "      <th>2732</th>\n",
       "      <td>2733</td>\n",
       "      <td>Peoplesoft HCM Lead - Programmer/Analyst</td>\n",
       "      <td>US, PA, Philadelphia</td>\n",
       "      <td>NaN</td>\n",
       "      <td>NaN</td>\n",
       "      <td></td>\n",
       "      <td>POSITION OVERVIEW:This position is responsible...</td>\n",
       "      <td>minimum qualifications: Bachelor's degree ( in...</td>\n",
       "      <td>My client company is a well established organi...</td>\n",
       "      <td>0</td>\n",
       "      <td>0</td>\n",
       "      <td>1</td>\n",
       "      <td>NaN</td>\n",
       "      <td>NaN</td>\n",
       "      <td>NaN</td>\n",
       "      <td>NaN</td>\n",
       "      <td>NaN</td>\n",
       "      <td>0</td>\n",
       "    </tr>\n",
       "  </tbody>\n",
       "</table>\n",
       "<p>13410 rows × 18 columns</p>\n",
       "</div>"
      ],
      "text/plain": [
       "       job_id                                        title  \\\n",
       "12276   12277                             Big Data Analyst   \n",
       "14680   14681                      Instructional Advocate    \n",
       "16518   16519                           Software Developer   \n",
       "15478   15479                          Internship in India   \n",
       "16348   16349    Web Developer Backend Microservices (m/f)   \n",
       "...       ...                                          ...   \n",
       "9225     9226  Senior Tax Professional for Product Manager   \n",
       "13123   13124                                  QA Engineer   \n",
       "9845     9846                          Senior QA Engineer    \n",
       "10799   10800                   Customer Service Associate   \n",
       "2732     2733     Peoplesoft HCM Lead - Programmer/Analyst   \n",
       "\n",
       "                    location              department   salary_range  \\\n",
       "12276        GB, WSM, London             Product Ops            NaN   \n",
       "14680       US, GA, Savannah                     NaN            NaN   \n",
       "16518    US, FL, Gainesville                     NaN            NaN   \n",
       "15478        IN, , Bangalore                     NaN            NaN   \n",
       "16348          DE, BE, 10969             Engineering            NaN   \n",
       "...                      ...                     ...            ...   \n",
       "9225   US, CA, San Francisco                 Product  100000-150000   \n",
       "13123      US, CA, San Mateo                     NaN            NaN   \n",
       "9845         IN, , Hyderabad  Information Technology            NaN   \n",
       "10799       US, CT, Hartford                     NaN            NaN   \n",
       "2732    US, PA, Philadelphia                     NaN            NaN   \n",
       "\n",
       "                                         company_profile  \\\n",
       "12276  Founded in 2010 by a team from Google’s London...   \n",
       "14680  We are an after-school program committed to as...   \n",
       "16518  352 Inc. is a full-service digital agency crea...   \n",
       "15478                                                      \n",
       "16348  airfy prägt sicheres und einfach zu bedienende...   \n",
       "...                                                  ...   \n",
       "9225   Balanced Labs exists to provide accountants an...   \n",
       "13123  Tile is one of the most successful crowd-funde...   \n",
       "9845   #url_ddb080358fa5eecf5a67c649cfb4ffc343c484389...   \n",
       "10799  Novitex Enterprise Solutions, formerly Pitney ...   \n",
       "2732                                                       \n",
       "\n",
       "                                             description  \\\n",
       "12276  Qubit: Cutting Edge Big Data EngineeringQubit ...   \n",
       "14680  21st Century Community Learning Centers is an ...   \n",
       "16518  We partner with great clients to build smart s...   \n",
       "15478  London is a fast paced city of culture, divers...   \n",
       "16348  Design and develop a microservice platform for...   \n",
       "...                                                  ...   \n",
       "9225   Never before has a job in tax looked more inte...   \n",
       "13123  The RoleHere at Tile, we are looking for a sma...   \n",
       "9845   Responsibilities:* Acquire and maintain a comp...   \n",
       "10799  We are currently seeking a Customer Service As...   \n",
       "2732   POSITION OVERVIEW:This position is responsible...   \n",
       "\n",
       "                                            requirements  \\\n",
       "12276  What you'll need: A background in consulting, ...   \n",
       "14680  Bachelor's Degree or an Associate's Degree; or...   \n",
       "16518  3-5 years of great c# work Experience in mvc o...   \n",
       "15478                                                      \n",
       "16348  Senior level experience with web backends, esp...   \n",
       "...                                                  ...   \n",
       "9225   10+ years tax experience. Extensive knowledge ...   \n",
       "13123  Mandatory Qualities Tech enthusiast, you love ...   \n",
       "9845   Required Skills and Experience: Minimum of fiv...   \n",
       "10799  Minimum Requirements: Minimum of 2 years custo...   \n",
       "2732   minimum qualifications: Bachelor's degree ( in...   \n",
       "\n",
       "                                                benefits  telecommuting  \\\n",
       "12276  Plenty of perks:As well as the opportunity to ...              0   \n",
       "14680                                                NaN              0   \n",
       "16518  What You’ll GetFreedom: We trust you to do you...              0   \n",
       "15478  As specialists in delivering high quality and ...              0   \n",
       "16348  Flat hierarchies and a productive work environ...              0   \n",
       "...                                                  ...            ...   \n",
       "9225                                                 NaN              0   \n",
       "13123  Own equity in the company. Every employee is a...              0   \n",
       "9845   What Is OfferedOur client's core values drive ...              0   \n",
       "10799                                                NaN              0   \n",
       "2732   My client company is a well established organi...              0   \n",
       "\n",
       "       has_company_logo  has_questions employment_type required_experience  \\\n",
       "12276                 1              1       Full-time           Associate   \n",
       "14680                 1              0       Part-time                 NaN   \n",
       "16518                 1              0       Full-time    Mid-Senior level   \n",
       "15478                 1              0             NaN                 NaN   \n",
       "16348                 1              0       Full-time           Associate   \n",
       "...                 ...            ...             ...                 ...   \n",
       "9225                  1              1       Full-time            Director   \n",
       "13123                 1              0       Full-time           Associate   \n",
       "9845                  1              1       Full-time    Mid-Senior level   \n",
       "10799                 1              0       Full-time         Entry level   \n",
       "2732                  0              1             NaN                 NaN   \n",
       "\n",
       "              required_education                   industry  \\\n",
       "12276          Bachelor's Degree                   Internet   \n",
       "14680                        NaN                        NaN   \n",
       "16518                        NaN          Computer Software   \n",
       "15478                        NaN                        NaN   \n",
       "16348          Bachelor's Degree                   Internet   \n",
       "...                          ...                        ...   \n",
       "9225           Bachelor's Degree                 Accounting   \n",
       "13123          Bachelor's Degree       Consumer Electronics   \n",
       "9845           Bachelor's Degree  Marketing and Advertising   \n",
       "10799  High School or equivalent        Facilities Services   \n",
       "2732                         NaN                        NaN   \n",
       "\n",
       "                     function  fraudulent  \n",
       "12276      Product Management           0  \n",
       "14680               Education           0  \n",
       "16518  Information Technology           0  \n",
       "15478                     NaN           0  \n",
       "16348             Engineering           0  \n",
       "...                       ...         ...  \n",
       "9225        Strategy/Planning           0  \n",
       "13123             Engineering           0  \n",
       "9845              Engineering           1  \n",
       "10799        Customer Service           0  \n",
       "2732                      NaN           0  \n",
       "\n",
       "[13410 rows x 18 columns]"
      ]
     },
     "execution_count": 17,
     "metadata": {},
     "output_type": "execute_result"
    }
   ],
   "source": [
    "train_df"
   ]
  },
  {
   "cell_type": "markdown",
   "id": "a59db019",
   "metadata": {},
   "source": [
    "# Create Labeling Functions"
   ]
  },
  {
   "cell_type": "code",
   "execution_count": 18,
   "id": "e61a588c",
   "metadata": {
    "ExecuteTime": {
     "end_time": "2022-01-30T20:54:14.136365Z",
     "start_time": "2022-01-30T20:54:13.661104Z"
    }
   },
   "outputs": [],
   "source": [
    "from snorkel.labeling import labeling_function"
   ]
  },
  {
   "cell_type": "code",
   "execution_count": 36,
   "id": "7053a107",
   "metadata": {
    "ExecuteTime": {
     "end_time": "2022-01-30T20:54:14.139245Z",
     "start_time": "2022-01-30T20:54:14.137222Z"
    }
   },
   "outputs": [],
   "source": [
    "FAKE = 1\n",
    "REAL = 0\n",
    "ABSTAIN = -1"
   ]
  },
  {
   "cell_type": "code",
   "execution_count": 20,
   "id": "28d286e5",
   "metadata": {
    "ExecuteTime": {
     "end_time": "2022-01-30T20:54:15.165300Z",
     "start_time": "2022-01-30T20:54:15.160110Z"
    }
   },
   "outputs": [],
   "source": [
    "@labeling_function()\n",
    "def no_company_profile(x: pd.Series):\n",
    "    return FAKE if x.company_profile == \"\" else ABSTAIN\n",
    "\n",
    "\n",
    "@labeling_function()\n",
    "def no_company_logo(x: pd.Series):\n",
    "    return FAKE if x.has_company_logo == 0 else ABSTAIN\n",
    "\n",
    "\n",
    "@labeling_function()\n",
    "def has_background_check(x: pd.Series):\n",
    "    return REAL if \"background check\" in x.requirements else ABSTAIN\n",
    "\n",
    "\n",
    "@labeling_function()\n",
    "def required_experience(x: pd.Series):\n",
    "    return REAL if pd.notna(x.required_experience) else ABSTAIN\n",
    "\n",
    "\n",
    "@labeling_function()\n",
    "def required_education(x: pd.Series):\n",
    "    return REAL if pd.notna(x.required_education) else ABSTAIN"
   ]
  },
  {
   "cell_type": "markdown",
   "id": "c814465d",
   "metadata": {},
   "source": [
    "# Apply Labeling Functions to the Data"
   ]
  },
  {
   "cell_type": "code",
   "execution_count": 21,
   "id": "84fbfc7b",
   "metadata": {
    "ExecuteTime": {
     "end_time": "2022-01-29T16:56:00.839037Z",
     "start_time": "2022-01-29T16:55:59.915434Z"
    }
   },
   "outputs": [
    {
     "name": "stderr",
     "output_type": "stream",
     "text": [
      "100%|██████████| 13410/13410 [00:00<00:00, 42601.73it/s]\n"
     ]
    }
   ],
   "source": [
    "from snorkel.labeling import PandasLFApplier\n",
    "\n",
    "lfs = [\n",
    "    no_company_profile,\n",
    "    no_company_logo,\n",
    "    has_background_check,\n",
    "    required_experience,\n",
    "    required_education,\n",
    "]\n",
    "\n",
    "applier = PandasLFApplier(lfs=lfs)\n",
    "L_train = applier.apply(df=train_df)\n"
   ]
  },
  {
   "cell_type": "code",
   "execution_count": 30,
   "id": "e620fa49",
   "metadata": {
    "ExecuteTime": {
     "end_time": "2022-01-29T16:56:01.634273Z",
     "start_time": "2022-01-29T16:56:01.311516Z"
    }
   },
   "outputs": [
    {
     "name": "stderr",
     "output_type": "stream",
     "text": [
      "100%|██████████| 4470/4470 [00:00<00:00, 39809.03it/s]\n"
     ]
    }
   ],
   "source": [
    "L_test = applier.apply(df=test_df)"
   ]
  },
  {
   "cell_type": "code",
   "execution_count": 47,
   "id": "2696502b",
   "metadata": {},
   "outputs": [
    {
     "data": {
      "text/plain": [
       "(13410, 5)"
      ]
     },
     "execution_count": 47,
     "metadata": {},
     "output_type": "execute_result"
    }
   ],
   "source": [
    "L_train.shape"
   ]
  },
  {
   "cell_type": "code",
   "execution_count": 48,
   "id": "5907431e",
   "metadata": {},
   "outputs": [
    {
     "data": {
      "text/plain": [
       "array([[-1, -1, -1,  0,  0],\n",
       "       [-1, -1, -1, -1, -1]])"
      ]
     },
     "execution_count": 48,
     "metadata": {},
     "output_type": "execute_result"
    }
   ],
   "source": [
    "L_train[0:2]"
   ]
  },
  {
   "cell_type": "markdown",
   "id": "79d0ee33",
   "metadata": {},
   "source": [
    "# Evaluate Labeling Functions"
   ]
  },
  {
   "cell_type": "code",
   "execution_count": 24,
   "id": "77cef65f",
   "metadata": {
    "ExecuteTime": {
     "end_time": "2022-01-29T16:56:00.895079Z",
     "start_time": "2022-01-29T16:56:00.840064Z"
    }
   },
   "outputs": [
    {
     "data": {
      "text/html": [
       "<div>\n",
       "<style scoped>\n",
       "    .dataframe tbody tr th:only-of-type {\n",
       "        vertical-align: middle;\n",
       "    }\n",
       "\n",
       "    .dataframe tbody tr th {\n",
       "        vertical-align: top;\n",
       "    }\n",
       "\n",
       "    .dataframe thead th {\n",
       "        text-align: right;\n",
       "    }\n",
       "</style>\n",
       "<table border=\"1\" class=\"dataframe\">\n",
       "  <thead>\n",
       "    <tr style=\"text-align: right;\">\n",
       "      <th></th>\n",
       "      <th>j</th>\n",
       "      <th>Polarity</th>\n",
       "      <th>Coverage</th>\n",
       "      <th>Overlaps</th>\n",
       "      <th>Conflicts</th>\n",
       "      <th>Correct</th>\n",
       "      <th>Incorrect</th>\n",
       "      <th>Emp. Acc.</th>\n",
       "    </tr>\n",
       "  </thead>\n",
       "  <tbody>\n",
       "    <tr>\n",
       "      <th>no_company_profile</th>\n",
       "      <td>0</td>\n",
       "      <td>[1]</td>\n",
       "      <td>0.186204</td>\n",
       "      <td>0.170694</td>\n",
       "      <td>0.110365</td>\n",
       "      <td>459</td>\n",
       "      <td>2038</td>\n",
       "      <td>0.183821</td>\n",
       "    </tr>\n",
       "    <tr>\n",
       "      <th>no_company_logo</th>\n",
       "      <td>1</td>\n",
       "      <td>[1]</td>\n",
       "      <td>0.205742</td>\n",
       "      <td>0.161894</td>\n",
       "      <td>0.101566</td>\n",
       "      <td>459</td>\n",
       "      <td>2300</td>\n",
       "      <td>0.166365</td>\n",
       "    </tr>\n",
       "    <tr>\n",
       "      <th>has_background_check</th>\n",
       "      <td>2</td>\n",
       "      <td>[0]</td>\n",
       "      <td>0.035496</td>\n",
       "      <td>0.032438</td>\n",
       "      <td>0.002759</td>\n",
       "      <td>464</td>\n",
       "      <td>12</td>\n",
       "      <td>0.974790</td>\n",
       "    </tr>\n",
       "    <tr>\n",
       "      <th>required_experience</th>\n",
       "      <td>3</td>\n",
       "      <td>[0]</td>\n",
       "      <td>0.607010</td>\n",
       "      <td>0.507308</td>\n",
       "      <td>0.114392</td>\n",
       "      <td>7809</td>\n",
       "      <td>331</td>\n",
       "      <td>0.959337</td>\n",
       "    </tr>\n",
       "    <tr>\n",
       "      <th>required_education</th>\n",
       "      <td>4</td>\n",
       "      <td>[0]</td>\n",
       "      <td>0.551603</td>\n",
       "      <td>0.488591</td>\n",
       "      <td>0.096570</td>\n",
       "      <td>7075</td>\n",
       "      <td>322</td>\n",
       "      <td>0.956469</td>\n",
       "    </tr>\n",
       "  </tbody>\n",
       "</table>\n",
       "</div>"
      ],
      "text/plain": [
       "                      j Polarity  Coverage  Overlaps  Conflicts  Correct  \\\n",
       "no_company_profile    0      [1]  0.186204  0.170694   0.110365      459   \n",
       "no_company_logo       1      [1]  0.205742  0.161894   0.101566      459   \n",
       "has_background_check  2      [0]  0.035496  0.032438   0.002759      464   \n",
       "required_experience   3      [0]  0.607010  0.507308   0.114392     7809   \n",
       "required_education    4      [0]  0.551603  0.488591   0.096570     7075   \n",
       "\n",
       "                      Incorrect  Emp. Acc.  \n",
       "no_company_profile         2038   0.183821  \n",
       "no_company_logo            2300   0.166365  \n",
       "has_background_check         12   0.974790  \n",
       "required_experience         331   0.959337  \n",
       "required_education          322   0.956469  "
      ]
     },
     "execution_count": 24,
     "metadata": {},
     "output_type": "execute_result"
    }
   ],
   "source": [
    "from snorkel.labeling import LFAnalysis\n",
    "\n",
    "LFAnalysis(L=L_train, lfs=lfs).lf_summary(Y=train_df.fraudulent.values)"
   ]
  },
  {
   "attachments": {},
   "cell_type": "markdown",
   "id": "68ee27fa",
   "metadata": {},
   "source": [
    "$$\n",
    "\\text{Accuracy}=\\frac{\\text{Correct}}{\\text{Correct}+\\text{Incorrect}}\n",
    "$$"
   ]
  },
  {
   "cell_type": "code",
   "execution_count": 49,
   "id": "5d26f32d",
   "metadata": {},
   "outputs": [
    {
     "data": {
      "text/html": [
       "<div>\n",
       "<style scoped>\n",
       "    .dataframe tbody tr th:only-of-type {\n",
       "        vertical-align: middle;\n",
       "    }\n",
       "\n",
       "    .dataframe tbody tr th {\n",
       "        vertical-align: top;\n",
       "    }\n",
       "\n",
       "    .dataframe thead th {\n",
       "        text-align: right;\n",
       "    }\n",
       "</style>\n",
       "<table border=\"1\" class=\"dataframe\">\n",
       "  <thead>\n",
       "    <tr style=\"text-align: right;\">\n",
       "      <th></th>\n",
       "      <th>j</th>\n",
       "      <th>Polarity</th>\n",
       "      <th>Coverage</th>\n",
       "      <th>Overlaps</th>\n",
       "      <th>Conflicts</th>\n",
       "    </tr>\n",
       "  </thead>\n",
       "  <tbody>\n",
       "    <tr>\n",
       "      <th>no_company_profile</th>\n",
       "      <td>0</td>\n",
       "      <td>[1]</td>\n",
       "      <td>0.186204</td>\n",
       "      <td>0.170694</td>\n",
       "      <td>0.110365</td>\n",
       "    </tr>\n",
       "    <tr>\n",
       "      <th>no_company_logo</th>\n",
       "      <td>1</td>\n",
       "      <td>[1]</td>\n",
       "      <td>0.205742</td>\n",
       "      <td>0.161894</td>\n",
       "      <td>0.101566</td>\n",
       "    </tr>\n",
       "    <tr>\n",
       "      <th>has_background_check</th>\n",
       "      <td>2</td>\n",
       "      <td>[0]</td>\n",
       "      <td>0.035496</td>\n",
       "      <td>0.032438</td>\n",
       "      <td>0.002759</td>\n",
       "    </tr>\n",
       "    <tr>\n",
       "      <th>required_experience</th>\n",
       "      <td>3</td>\n",
       "      <td>[0]</td>\n",
       "      <td>0.607010</td>\n",
       "      <td>0.507308</td>\n",
       "      <td>0.114392</td>\n",
       "    </tr>\n",
       "    <tr>\n",
       "      <th>required_education</th>\n",
       "      <td>4</td>\n",
       "      <td>[0]</td>\n",
       "      <td>0.551603</td>\n",
       "      <td>0.488591</td>\n",
       "      <td>0.096570</td>\n",
       "    </tr>\n",
       "  </tbody>\n",
       "</table>\n",
       "</div>"
      ],
      "text/plain": [
       "                      j Polarity  Coverage  Overlaps  Conflicts\n",
       "no_company_profile    0      [1]  0.186204  0.170694   0.110365\n",
       "no_company_logo       1      [1]  0.205742  0.161894   0.101566\n",
       "has_background_check  2      [0]  0.035496  0.032438   0.002759\n",
       "required_experience   3      [0]  0.607010  0.507308   0.114392\n",
       "required_education    4      [0]  0.551603  0.488591   0.096570"
      ]
     },
     "execution_count": 49,
     "metadata": {},
     "output_type": "execute_result"
    }
   ],
   "source": [
    "LFAnalysis(L=L_train, lfs=lfs).lf_summary()"
   ]
  },
  {
   "cell_type": "markdown",
   "id": "6bda30b0",
   "metadata": {},
   "source": [
    "## Evaluate Conflicts"
   ]
  },
  {
   "cell_type": "code",
   "execution_count": 43,
   "id": "f125bae8",
   "metadata": {
    "ExecuteTime": {
     "end_time": "2022-01-29T16:56:00.911079Z",
     "start_time": "2022-01-29T16:56:00.895810Z"
    }
   },
   "outputs": [
    {
     "data": {
      "text/plain": [
       "{(-1, 0): array([    0,     2,     4, ..., 13406, 13407, 13408]),\n",
       " (-1, -1): array([    1,     3,     7, ..., 13398, 13401, 13403]),\n",
       " (1, 0): array([    6,     8,    20, ..., 13361, 13370, 13389]),\n",
       " (1, -1): array([   10,    21,    26, ..., 13385, 13404, 13409])}"
      ]
     },
     "execution_count": 43,
     "metadata": {},
     "output_type": "execute_result"
    }
   ],
   "source": [
    "from snorkel.analysis import get_label_buckets\n",
    "\n",
    "buckets = get_label_buckets(L_train[:, 1], L_train[:, 3])\n",
    "buckets\n"
   ]
  },
  {
   "cell_type": "code",
   "execution_count": 50,
   "id": "55e61e13",
   "metadata": {},
   "outputs": [
    {
     "data": {
      "text/html": [
       "<div>\n",
       "<style scoped>\n",
       "    .dataframe tbody tr th:only-of-type {\n",
       "        vertical-align: middle;\n",
       "    }\n",
       "\n",
       "    .dataframe tbody tr th {\n",
       "        vertical-align: top;\n",
       "    }\n",
       "\n",
       "    .dataframe thead th {\n",
       "        text-align: right;\n",
       "    }\n",
       "</style>\n",
       "<table border=\"1\" class=\"dataframe\">\n",
       "  <thead>\n",
       "    <tr style=\"text-align: right;\">\n",
       "      <th></th>\n",
       "      <th>has_company_logo</th>\n",
       "      <th>required_experience</th>\n",
       "      <th>fraudulent</th>\n",
       "    </tr>\n",
       "  </thead>\n",
       "  <tbody>\n",
       "    <tr>\n",
       "      <th>16877</th>\n",
       "      <td>0</td>\n",
       "      <td>Mid-Senior level</td>\n",
       "      <td>0</td>\n",
       "    </tr>\n",
       "    <tr>\n",
       "      <th>17068</th>\n",
       "      <td>0</td>\n",
       "      <td>Mid-Senior level</td>\n",
       "      <td>0</td>\n",
       "    </tr>\n",
       "    <tr>\n",
       "      <th>16816</th>\n",
       "      <td>0</td>\n",
       "      <td>Mid-Senior level</td>\n",
       "      <td>0</td>\n",
       "    </tr>\n",
       "    <tr>\n",
       "      <th>12186</th>\n",
       "      <td>0</td>\n",
       "      <td>Not Applicable</td>\n",
       "      <td>0</td>\n",
       "    </tr>\n",
       "    <tr>\n",
       "      <th>16808</th>\n",
       "      <td>0</td>\n",
       "      <td>Mid-Senior level</td>\n",
       "      <td>0</td>\n",
       "    </tr>\n",
       "    <tr>\n",
       "      <th>678</th>\n",
       "      <td>0</td>\n",
       "      <td>Not Applicable</td>\n",
       "      <td>0</td>\n",
       "    </tr>\n",
       "    <tr>\n",
       "      <th>3706</th>\n",
       "      <td>0</td>\n",
       "      <td>Entry level</td>\n",
       "      <td>0</td>\n",
       "    </tr>\n",
       "    <tr>\n",
       "      <th>14150</th>\n",
       "      <td>0</td>\n",
       "      <td>Entry level</td>\n",
       "      <td>0</td>\n",
       "    </tr>\n",
       "    <tr>\n",
       "      <th>2199</th>\n",
       "      <td>0</td>\n",
       "      <td>Entry level</td>\n",
       "      <td>0</td>\n",
       "    </tr>\n",
       "    <tr>\n",
       "      <th>4411</th>\n",
       "      <td>0</td>\n",
       "      <td>Entry level</td>\n",
       "      <td>0</td>\n",
       "    </tr>\n",
       "  </tbody>\n",
       "</table>\n",
       "</div>"
      ],
      "text/plain": [
       "       has_company_logo required_experience  fraudulent\n",
       "16877                 0    Mid-Senior level           0\n",
       "17068                 0    Mid-Senior level           0\n",
       "16816                 0    Mid-Senior level           0\n",
       "12186                 0      Not Applicable           0\n",
       "16808                 0    Mid-Senior level           0\n",
       "678                   0      Not Applicable           0\n",
       "3706                  0         Entry level           0\n",
       "14150                 0         Entry level           0\n",
       "2199                  0         Entry level           0\n",
       "4411                  0         Entry level           0"
      ]
     },
     "execution_count": 50,
     "metadata": {},
     "output_type": "execute_result"
    }
   ],
   "source": [
    "conflicted_buckets = buckets[(FAKE, REAL)]\n",
    "\n",
    "res = train_df.iloc[conflicted_buckets].sample(10, random_state=1)[\n",
    "    [\"has_company_logo\", \"required_experience\", \"fraudulent\"]\n",
    "]\n",
    "res\n"
   ]
  },
  {
   "cell_type": "markdown",
   "id": "7719b091",
   "metadata": {},
   "source": [
    "# Combine Predictions"
   ]
  },
  {
   "cell_type": "markdown",
   "id": "361af62b",
   "metadata": {},
   "source": [
    "## MajorityLabelVoter"
   ]
  },
  {
   "cell_type": "code",
   "execution_count": 31,
   "id": "47337f19",
   "metadata": {
    "ExecuteTime": {
     "end_time": "2022-01-29T16:56:01.639036Z",
     "start_time": "2022-01-29T16:56:01.635129Z"
    }
   },
   "outputs": [],
   "source": [
    "Y_train = train_df[\"fraudulent\"]\n",
    "Y_test = test_df[\"fraudulent\"]"
   ]
  },
  {
   "cell_type": "code",
   "execution_count": 32,
   "id": "e0a76c03",
   "metadata": {
    "ExecuteTime": {
     "end_time": "2022-01-29T16:56:01.062252Z",
     "start_time": "2022-01-29T16:56:00.911815Z"
    }
   },
   "outputs": [],
   "source": [
    "from snorkel.labeling.model import MajorityLabelVoter\n",
    "\n",
    "majority_model = MajorityLabelVoter()\n",
    "preds_train = majority_model.predict(L=L_train)"
   ]
  },
  {
   "cell_type": "code",
   "execution_count": 33,
   "id": "36b5ece3",
   "metadata": {
    "ExecuteTime": {
     "end_time": "2022-01-29T16:56:01.700819Z",
     "start_time": "2022-01-29T16:56:01.639941Z"
    }
   },
   "outputs": [
    {
     "name": "stderr",
     "output_type": "stream",
     "text": [
      "WARNING:root:Metrics calculated over data points with non-abstain labels only\n"
     ]
    },
    {
     "name": "stdout",
     "output_type": "stream",
     "text": [
      "Majority Vote Accuracy:   80.7%\n"
     ]
    }
   ],
   "source": [
    "majority_acc = majority_model.score(\n",
    "    L=L_test,\n",
    "    Y=Y_test,\n",
    ")[\"accuracy\"]\n",
    "print(f\"{'Majority Vote Accuracy:':<25} {majority_acc * 100:.1f}%\")"
   ]
  },
  {
   "cell_type": "markdown",
   "id": "9476c6af",
   "metadata": {},
   "source": [
    "## LabelModel"
   ]
  },
  {
   "cell_type": "code",
   "execution_count": 34,
   "id": "2878b33b",
   "metadata": {
    "ExecuteTime": {
     "end_time": "2022-01-29T17:31:06.819288Z",
     "start_time": "2022-01-29T17:31:06.490833Z"
    }
   },
   "outputs": [
    {
     "name": "stderr",
     "output_type": "stream",
     "text": [
      "INFO:root:Computing O...\n",
      "INFO:root:Estimating \\mu...\n",
      "  0%|          | 0/500 [00:00<?, ?epoch/s]INFO:root:[0 epochs]: TRAIN:[loss=0.841]\n",
      "INFO:root:[100 epochs]: TRAIN:[loss=0.012]\n",
      "INFO:root:[200 epochs]: TRAIN:[loss=0.011]\n",
      " 41%|████      | 206/500 [00:00<00:00, 2056.46epoch/s]INFO:root:[300 epochs]: TRAIN:[loss=0.010]\n",
      "INFO:root:[400 epochs]: TRAIN:[loss=0.010]\n",
      "100%|██████████| 500/500 [00:00<00:00, 2339.73epoch/s]\n",
      "INFO:root:Finished Training\n"
     ]
    }
   ],
   "source": [
    "from snorkel.labeling.model import LabelModel\n",
    "\n",
    "label_model = LabelModel(cardinality=2, verbose=True)\n",
    "label_model.fit(L_train=L_train, n_epochs=500, log_freq=100, seed=1)\n"
   ]
  },
  {
   "cell_type": "code",
   "execution_count": 35,
   "id": "42dbb8c6",
   "metadata": {
    "ExecuteTime": {
     "end_time": "2022-01-29T16:56:01.726435Z",
     "start_time": "2022-01-29T16:56:01.701555Z"
    }
   },
   "outputs": [
    {
     "name": "stderr",
     "output_type": "stream",
     "text": [
      "WARNING:root:Metrics calculated over data points with non-abstain labels only\n"
     ]
    },
    {
     "name": "stdout",
     "output_type": "stream",
     "text": [
      "Label Model Accuracy:     72.0%\n"
     ]
    }
   ],
   "source": [
    "label_model_acc = label_model.score(L=L_test, Y=Y_test)[\"accuracy\"]\n",
    "print(f\"{'Label Model Accuracy:':<25} {label_model_acc * 100:.1f}%\")"
   ]
  }
 ],
 "metadata": {
  "kernelspec": {
   "display_name": "venv",
   "language": "python",
   "name": "python3"
  },
  "language_info": {
   "codemirror_mode": {
    "name": "ipython",
    "version": 3
   },
   "file_extension": ".py",
   "mimetype": "text/x-python",
   "name": "python",
   "nbconvert_exporter": "python",
   "pygments_lexer": "ipython3",
   "version": "3.9.6"
  },
  "toc": {
   "base_numbering": 1,
   "nav_menu": {},
   "number_sections": true,
   "sideBar": true,
   "skip_h1_title": false,
   "title_cell": "Table of Contents",
   "title_sidebar": "Contents",
   "toc_cell": false,
   "toc_position": {},
   "toc_section_display": true,
   "toc_window_display": false
  },
  "vscode": {
   "interpreter": {
    "hash": "7b0245b5d43caa32e033db5d49795e24042b4f0e112262d65345acbfe088c165"
   }
  }
 },
 "nbformat": 4,
 "nbformat_minor": 5
}
