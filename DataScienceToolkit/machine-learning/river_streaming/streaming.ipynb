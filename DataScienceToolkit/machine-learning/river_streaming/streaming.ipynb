{
 "cells": [
  {
   "cell_type": "code",
   "execution_count": null,
   "id": "a5c78d63",
   "metadata": {},
   "outputs": [],
   "source": [
    "!pip install river scikit-learn"
   ]
  },
  {
   "cell_type": "markdown",
   "id": "87baf6f0",
   "metadata": {},
   "source": [
    "# Batch learning"
   ]
  },
  {
   "cell_type": "code",
   "execution_count": 1,
   "id": "73e65831",
   "metadata": {},
   "outputs": [],
   "source": [
    "import seaborn as sns\n",
    "\n",
    "df = sns.load_dataset(\"penguins\")\n"
   ]
  },
  {
   "cell_type": "code",
   "execution_count": 2,
   "id": "5911f961",
   "metadata": {},
   "outputs": [
    {
     "data": {
      "text/html": [
       "<div>\n",
       "<style scoped>\n",
       "    .dataframe tbody tr th:only-of-type {\n",
       "        vertical-align: middle;\n",
       "    }\n",
       "\n",
       "    .dataframe tbody tr th {\n",
       "        vertical-align: top;\n",
       "    }\n",
       "\n",
       "    .dataframe thead th {\n",
       "        text-align: right;\n",
       "    }\n",
       "</style>\n",
       "<table border=\"1\" class=\"dataframe\">\n",
       "  <thead>\n",
       "    <tr style=\"text-align: right;\">\n",
       "      <th></th>\n",
       "      <th>species</th>\n",
       "      <th>island</th>\n",
       "      <th>bill_length_mm</th>\n",
       "      <th>bill_depth_mm</th>\n",
       "      <th>flipper_length_mm</th>\n",
       "      <th>body_mass_g</th>\n",
       "      <th>sex</th>\n",
       "    </tr>\n",
       "  </thead>\n",
       "  <tbody>\n",
       "    <tr>\n",
       "      <th>0</th>\n",
       "      <td>Adelie</td>\n",
       "      <td>Torgersen</td>\n",
       "      <td>39.1</td>\n",
       "      <td>18.7</td>\n",
       "      <td>181.0</td>\n",
       "      <td>3750.0</td>\n",
       "      <td>Male</td>\n",
       "    </tr>\n",
       "    <tr>\n",
       "      <th>1</th>\n",
       "      <td>Adelie</td>\n",
       "      <td>Torgersen</td>\n",
       "      <td>39.5</td>\n",
       "      <td>17.4</td>\n",
       "      <td>186.0</td>\n",
       "      <td>3800.0</td>\n",
       "      <td>Female</td>\n",
       "    </tr>\n",
       "    <tr>\n",
       "      <th>2</th>\n",
       "      <td>Adelie</td>\n",
       "      <td>Torgersen</td>\n",
       "      <td>40.3</td>\n",
       "      <td>18.0</td>\n",
       "      <td>195.0</td>\n",
       "      <td>3250.0</td>\n",
       "      <td>Female</td>\n",
       "    </tr>\n",
       "    <tr>\n",
       "      <th>3</th>\n",
       "      <td>Adelie</td>\n",
       "      <td>Torgersen</td>\n",
       "      <td>NaN</td>\n",
       "      <td>NaN</td>\n",
       "      <td>NaN</td>\n",
       "      <td>NaN</td>\n",
       "      <td>NaN</td>\n",
       "    </tr>\n",
       "    <tr>\n",
       "      <th>4</th>\n",
       "      <td>Adelie</td>\n",
       "      <td>Torgersen</td>\n",
       "      <td>36.7</td>\n",
       "      <td>19.3</td>\n",
       "      <td>193.0</td>\n",
       "      <td>3450.0</td>\n",
       "      <td>Female</td>\n",
       "    </tr>\n",
       "    <tr>\n",
       "      <th>...</th>\n",
       "      <td>...</td>\n",
       "      <td>...</td>\n",
       "      <td>...</td>\n",
       "      <td>...</td>\n",
       "      <td>...</td>\n",
       "      <td>...</td>\n",
       "      <td>...</td>\n",
       "    </tr>\n",
       "    <tr>\n",
       "      <th>339</th>\n",
       "      <td>Gentoo</td>\n",
       "      <td>Biscoe</td>\n",
       "      <td>NaN</td>\n",
       "      <td>NaN</td>\n",
       "      <td>NaN</td>\n",
       "      <td>NaN</td>\n",
       "      <td>NaN</td>\n",
       "    </tr>\n",
       "    <tr>\n",
       "      <th>340</th>\n",
       "      <td>Gentoo</td>\n",
       "      <td>Biscoe</td>\n",
       "      <td>46.8</td>\n",
       "      <td>14.3</td>\n",
       "      <td>215.0</td>\n",
       "      <td>4850.0</td>\n",
       "      <td>Female</td>\n",
       "    </tr>\n",
       "    <tr>\n",
       "      <th>341</th>\n",
       "      <td>Gentoo</td>\n",
       "      <td>Biscoe</td>\n",
       "      <td>50.4</td>\n",
       "      <td>15.7</td>\n",
       "      <td>222.0</td>\n",
       "      <td>5750.0</td>\n",
       "      <td>Male</td>\n",
       "    </tr>\n",
       "    <tr>\n",
       "      <th>342</th>\n",
       "      <td>Gentoo</td>\n",
       "      <td>Biscoe</td>\n",
       "      <td>45.2</td>\n",
       "      <td>14.8</td>\n",
       "      <td>212.0</td>\n",
       "      <td>5200.0</td>\n",
       "      <td>Female</td>\n",
       "    </tr>\n",
       "    <tr>\n",
       "      <th>343</th>\n",
       "      <td>Gentoo</td>\n",
       "      <td>Biscoe</td>\n",
       "      <td>49.9</td>\n",
       "      <td>16.1</td>\n",
       "      <td>213.0</td>\n",
       "      <td>5400.0</td>\n",
       "      <td>Male</td>\n",
       "    </tr>\n",
       "  </tbody>\n",
       "</table>\n",
       "<p>344 rows × 7 columns</p>\n",
       "</div>"
      ],
      "text/plain": [
       "    species     island  bill_length_mm  bill_depth_mm  flipper_length_mm  \\\n",
       "0    Adelie  Torgersen            39.1           18.7              181.0   \n",
       "1    Adelie  Torgersen            39.5           17.4              186.0   \n",
       "2    Adelie  Torgersen            40.3           18.0              195.0   \n",
       "3    Adelie  Torgersen             NaN            NaN                NaN   \n",
       "4    Adelie  Torgersen            36.7           19.3              193.0   \n",
       "..      ...        ...             ...            ...                ...   \n",
       "339  Gentoo     Biscoe             NaN            NaN                NaN   \n",
       "340  Gentoo     Biscoe            46.8           14.3              215.0   \n",
       "341  Gentoo     Biscoe            50.4           15.7              222.0   \n",
       "342  Gentoo     Biscoe            45.2           14.8              212.0   \n",
       "343  Gentoo     Biscoe            49.9           16.1              213.0   \n",
       "\n",
       "     body_mass_g     sex  \n",
       "0         3750.0    Male  \n",
       "1         3800.0  Female  \n",
       "2         3250.0  Female  \n",
       "3            NaN     NaN  \n",
       "4         3450.0  Female  \n",
       "..           ...     ...  \n",
       "339          NaN     NaN  \n",
       "340       4850.0  Female  \n",
       "341       5750.0    Male  \n",
       "342       5200.0  Female  \n",
       "343       5400.0    Male  \n",
       "\n",
       "[344 rows x 7 columns]"
      ]
     },
     "execution_count": 2,
     "metadata": {},
     "output_type": "execute_result"
    }
   ],
   "source": [
    "df "
   ]
  },
  {
   "cell_type": "code",
   "execution_count": 3,
   "id": "983f3dcb",
   "metadata": {},
   "outputs": [
    {
     "name": "stdout",
     "output_type": "stream",
     "text": [
      "<class 'pandas.core.frame.DataFrame'>\n",
      "RangeIndex: 344 entries, 0 to 343\n",
      "Data columns (total 7 columns):\n",
      " #   Column             Non-Null Count  Dtype  \n",
      "---  ------             --------------  -----  \n",
      " 0   species            344 non-null    object \n",
      " 1   island             344 non-null    object \n",
      " 2   bill_length_mm     342 non-null    float64\n",
      " 3   bill_depth_mm      342 non-null    float64\n",
      " 4   flipper_length_mm  342 non-null    float64\n",
      " 5   body_mass_g        342 non-null    float64\n",
      " 6   sex                333 non-null    object \n",
      "dtypes: float64(4), object(3)\n",
      "memory usage: 18.9+ KB\n"
     ]
    }
   ],
   "source": [
    "df.info()"
   ]
  },
  {
   "cell_type": "code",
   "execution_count": 6,
   "id": "7bc1114e",
   "metadata": {},
   "outputs": [],
   "source": [
    "target = 'species'\n",
    "y = df[target]\n",
    "X = df.drop(target, axis=1)"
   ]
  },
  {
   "cell_type": "code",
   "execution_count": 32,
   "id": "950404ee",
   "metadata": {},
   "outputs": [],
   "source": [
    "from sklearn.model_selection import train_test_split\n",
    "from sklearn.pipeline import make_pipeline\n",
    "from sklearn.impute import SimpleImputer\n",
    "from sklearn.preprocessing import OneHotEncoder\n",
    "from sklearn.tree import DecisionTreeClassifier\n",
    "from sklearn.compose import ColumnTransformer\n",
    "from sklearn.metrics import confusion_matrix, f1_score"
   ]
  },
  {
   "cell_type": "code",
   "execution_count": 33,
   "id": "2c1c2591",
   "metadata": {},
   "outputs": [],
   "source": [
    "X_train, X_test, y_train, y_test = train_test_split(X, y, random_state=1)"
   ]
  },
  {
   "cell_type": "code",
   "execution_count": 34,
   "id": "bc61f4b7",
   "metadata": {},
   "outputs": [
    {
     "data": {
      "text/plain": [
       "array([[1., 2.],\n",
       "       [3., 3.],\n",
       "       [1., 4.]])"
      ]
     },
     "execution_count": 34,
     "metadata": {},
     "output_type": "execute_result"
    }
   ],
   "source": [
    "import numpy as np\n",
    "from sklearn.impute import SimpleImputer\n",
    "\n",
    "imputer = SimpleImputer()\n",
    "X_sample = np.array([[1, 2], [3, np.nan], [1, 4]])\n",
    "imputer.fit(X_sample)\n",
    "imputer.transform(X_sample)\n"
   ]
  },
  {
   "cell_type": "code",
   "execution_count": 713,
   "id": "6aa59948",
   "metadata": {},
   "outputs": [],
   "source": [
    "numeric_features = X_train.select_dtypes(exclude=object).columns\n",
    "categorical_features = X_train.select_dtypes(include=object).columns"
   ]
  },
  {
   "cell_type": "code",
   "execution_count": 714,
   "id": "1cf00025",
   "metadata": {},
   "outputs": [],
   "source": [
    "numeric_transformer = SimpleImputer()\n",
    "categorical_transformer = make_pipeline(\n",
    "    SimpleImputer(strategy=\"most_frequent\"), OneHotEncoder()\n",
    ")\n",
    "preprocessor = ColumnTransformer(\n",
    "    transformers=[\n",
    "        (\"num\", numeric_transformer, numeric_features),\n",
    "        (\"cat\", categorical_transformer, categorical_features),\n",
    "    ]\n",
    ")\n"
   ]
  },
  {
   "cell_type": "code",
   "execution_count": 715,
   "id": "2107afa2",
   "metadata": {},
   "outputs": [
    {
     "data": {
      "text/plain": [
       "island               Biscoe\n",
       "bill_length_mm         49.3\n",
       "bill_depth_mm          15.7\n",
       "flipper_length_mm     217.0\n",
       "body_mass_g          5850.0\n",
       "sex                    Male\n",
       "Name: 235, dtype: object"
      ]
     },
     "execution_count": 715,
     "metadata": {},
     "output_type": "execute_result"
    }
   ],
   "source": [
    "X_train.iloc[256]"
   ]
  },
  {
   "cell_type": "code",
   "execution_count": 716,
   "id": "57d3a04c",
   "metadata": {},
   "outputs": [
    {
     "data": {
      "text/plain": [
       "array([4.93e+01, 1.57e+01, 2.17e+02, 5.85e+03, 1.00e+00, 0.00e+00,\n",
       "       0.00e+00, 0.00e+00, 1.00e+00])"
      ]
     },
     "execution_count": 716,
     "metadata": {},
     "output_type": "execute_result"
    }
   ],
   "source": [
    "preprocessor.fit_transform(X_train)[256]"
   ]
  },
  {
   "cell_type": "code",
   "execution_count": 717,
   "id": "43941991",
   "metadata": {},
   "outputs": [],
   "source": [
    "sklearn_clf = make_pipeline(preprocessor, DecisionTreeClassifier())\n"
   ]
  },
  {
   "cell_type": "code",
   "execution_count": 718,
   "id": "2a37f502",
   "metadata": {},
   "outputs": [
    {
     "data": {
      "text/html": [
       "<style>#sk-container-id-13 {color: black;background-color: white;}#sk-container-id-13 pre{padding: 0;}#sk-container-id-13 div.sk-toggleable {background-color: white;}#sk-container-id-13 label.sk-toggleable__label {cursor: pointer;display: block;width: 100%;margin-bottom: 0;padding: 0.3em;box-sizing: border-box;text-align: center;}#sk-container-id-13 label.sk-toggleable__label-arrow:before {content: \"▸\";float: left;margin-right: 0.25em;color: #696969;}#sk-container-id-13 label.sk-toggleable__label-arrow:hover:before {color: black;}#sk-container-id-13 div.sk-estimator:hover label.sk-toggleable__label-arrow:before {color: black;}#sk-container-id-13 div.sk-toggleable__content {max-height: 0;max-width: 0;overflow: hidden;text-align: left;background-color: #f0f8ff;}#sk-container-id-13 div.sk-toggleable__content pre {margin: 0.2em;color: black;border-radius: 0.25em;background-color: #f0f8ff;}#sk-container-id-13 input.sk-toggleable__control:checked~div.sk-toggleable__content {max-height: 200px;max-width: 100%;overflow: auto;}#sk-container-id-13 input.sk-toggleable__control:checked~label.sk-toggleable__label-arrow:before {content: \"▾\";}#sk-container-id-13 div.sk-estimator input.sk-toggleable__control:checked~label.sk-toggleable__label {background-color: #d4ebff;}#sk-container-id-13 div.sk-label input.sk-toggleable__control:checked~label.sk-toggleable__label {background-color: #d4ebff;}#sk-container-id-13 input.sk-hidden--visually {border: 0;clip: rect(1px 1px 1px 1px);clip: rect(1px, 1px, 1px, 1px);height: 1px;margin: -1px;overflow: hidden;padding: 0;position: absolute;width: 1px;}#sk-container-id-13 div.sk-estimator {font-family: monospace;background-color: #f0f8ff;border: 1px dotted black;border-radius: 0.25em;box-sizing: border-box;margin-bottom: 0.5em;}#sk-container-id-13 div.sk-estimator:hover {background-color: #d4ebff;}#sk-container-id-13 div.sk-parallel-item::after {content: \"\";width: 100%;border-bottom: 1px solid gray;flex-grow: 1;}#sk-container-id-13 div.sk-label:hover label.sk-toggleable__label {background-color: #d4ebff;}#sk-container-id-13 div.sk-serial::before {content: \"\";position: absolute;border-left: 1px solid gray;box-sizing: border-box;top: 0;bottom: 0;left: 50%;z-index: 0;}#sk-container-id-13 div.sk-serial {display: flex;flex-direction: column;align-items: center;background-color: white;padding-right: 0.2em;padding-left: 0.2em;position: relative;}#sk-container-id-13 div.sk-item {position: relative;z-index: 1;}#sk-container-id-13 div.sk-parallel {display: flex;align-items: stretch;justify-content: center;background-color: white;position: relative;}#sk-container-id-13 div.sk-item::before, #sk-container-id-13 div.sk-parallel-item::before {content: \"\";position: absolute;border-left: 1px solid gray;box-sizing: border-box;top: 0;bottom: 0;left: 50%;z-index: -1;}#sk-container-id-13 div.sk-parallel-item {display: flex;flex-direction: column;z-index: 1;position: relative;background-color: white;}#sk-container-id-13 div.sk-parallel-item:first-child::after {align-self: flex-end;width: 50%;}#sk-container-id-13 div.sk-parallel-item:last-child::after {align-self: flex-start;width: 50%;}#sk-container-id-13 div.sk-parallel-item:only-child::after {width: 0;}#sk-container-id-13 div.sk-dashed-wrapped {border: 1px dashed gray;margin: 0 0.4em 0.5em 0.4em;box-sizing: border-box;padding-bottom: 0.4em;background-color: white;}#sk-container-id-13 div.sk-label label {font-family: monospace;font-weight: bold;display: inline-block;line-height: 1.2em;}#sk-container-id-13 div.sk-label-container {text-align: center;}#sk-container-id-13 div.sk-container {/* jupyter's `normalize.less` sets `[hidden] { display: none; }` but bootstrap.min.css set `[hidden] { display: none !important; }` so we also need the `!important` here to be able to override the default hidden behavior on the sphinx rendered scikit-learn.org. See: https://github.com/scikit-learn/scikit-learn/issues/21755 */display: inline-block !important;position: relative;}#sk-container-id-13 div.sk-text-repr-fallback {display: none;}</style><div id=\"sk-container-id-13\" class=\"sk-top-container\"><div class=\"sk-text-repr-fallback\"><pre>Pipeline(steps=[(&#x27;columntransformer&#x27;,\n",
       "                 ColumnTransformer(transformers=[(&#x27;num&#x27;, SimpleImputer(),\n",
       "                                                  Index([&#x27;bill_length_mm&#x27;, &#x27;bill_depth_mm&#x27;, &#x27;flipper_length_mm&#x27;, &#x27;body_mass_g&#x27;], dtype=&#x27;object&#x27;)),\n",
       "                                                 (&#x27;cat&#x27;,\n",
       "                                                  Pipeline(steps=[(&#x27;simpleimputer&#x27;,\n",
       "                                                                   SimpleImputer(strategy=&#x27;most_frequent&#x27;)),\n",
       "                                                                  (&#x27;onehotencoder&#x27;,\n",
       "                                                                   OneHotEncoder())]),\n",
       "                                                  Index([&#x27;island&#x27;, &#x27;sex&#x27;], dtype=&#x27;object&#x27;))])),\n",
       "                (&#x27;decisiontreeclassifier&#x27;, DecisionTreeClassifier())])</pre><b>In a Jupyter environment, please rerun this cell to show the HTML representation or trust the notebook. <br />On GitHub, the HTML representation is unable to render, please try loading this page with nbviewer.org.</b></div><div class=\"sk-container\" hidden><div class=\"sk-item sk-dashed-wrapped\"><div class=\"sk-label-container\"><div class=\"sk-label sk-toggleable\"><input class=\"sk-toggleable__control sk-hidden--visually\" id=\"sk-estimator-id-90\" type=\"checkbox\" ><label for=\"sk-estimator-id-90\" class=\"sk-toggleable__label sk-toggleable__label-arrow\">Pipeline</label><div class=\"sk-toggleable__content\"><pre>Pipeline(steps=[(&#x27;columntransformer&#x27;,\n",
       "                 ColumnTransformer(transformers=[(&#x27;num&#x27;, SimpleImputer(),\n",
       "                                                  Index([&#x27;bill_length_mm&#x27;, &#x27;bill_depth_mm&#x27;, &#x27;flipper_length_mm&#x27;, &#x27;body_mass_g&#x27;], dtype=&#x27;object&#x27;)),\n",
       "                                                 (&#x27;cat&#x27;,\n",
       "                                                  Pipeline(steps=[(&#x27;simpleimputer&#x27;,\n",
       "                                                                   SimpleImputer(strategy=&#x27;most_frequent&#x27;)),\n",
       "                                                                  (&#x27;onehotencoder&#x27;,\n",
       "                                                                   OneHotEncoder())]),\n",
       "                                                  Index([&#x27;island&#x27;, &#x27;sex&#x27;], dtype=&#x27;object&#x27;))])),\n",
       "                (&#x27;decisiontreeclassifier&#x27;, DecisionTreeClassifier())])</pre></div></div></div><div class=\"sk-serial\"><div class=\"sk-item sk-dashed-wrapped\"><div class=\"sk-label-container\"><div class=\"sk-label sk-toggleable\"><input class=\"sk-toggleable__control sk-hidden--visually\" id=\"sk-estimator-id-91\" type=\"checkbox\" ><label for=\"sk-estimator-id-91\" class=\"sk-toggleable__label sk-toggleable__label-arrow\">columntransformer: ColumnTransformer</label><div class=\"sk-toggleable__content\"><pre>ColumnTransformer(transformers=[(&#x27;num&#x27;, SimpleImputer(),\n",
       "                                 Index([&#x27;bill_length_mm&#x27;, &#x27;bill_depth_mm&#x27;, &#x27;flipper_length_mm&#x27;, &#x27;body_mass_g&#x27;], dtype=&#x27;object&#x27;)),\n",
       "                                (&#x27;cat&#x27;,\n",
       "                                 Pipeline(steps=[(&#x27;simpleimputer&#x27;,\n",
       "                                                  SimpleImputer(strategy=&#x27;most_frequent&#x27;)),\n",
       "                                                 (&#x27;onehotencoder&#x27;,\n",
       "                                                  OneHotEncoder())]),\n",
       "                                 Index([&#x27;island&#x27;, &#x27;sex&#x27;], dtype=&#x27;object&#x27;))])</pre></div></div></div><div class=\"sk-parallel\"><div class=\"sk-parallel-item\"><div class=\"sk-item\"><div class=\"sk-label-container\"><div class=\"sk-label sk-toggleable\"><input class=\"sk-toggleable__control sk-hidden--visually\" id=\"sk-estimator-id-92\" type=\"checkbox\" ><label for=\"sk-estimator-id-92\" class=\"sk-toggleable__label sk-toggleable__label-arrow\">num</label><div class=\"sk-toggleable__content\"><pre>Index([&#x27;bill_length_mm&#x27;, &#x27;bill_depth_mm&#x27;, &#x27;flipper_length_mm&#x27;, &#x27;body_mass_g&#x27;], dtype=&#x27;object&#x27;)</pre></div></div></div><div class=\"sk-serial\"><div class=\"sk-item\"><div class=\"sk-estimator sk-toggleable\"><input class=\"sk-toggleable__control sk-hidden--visually\" id=\"sk-estimator-id-93\" type=\"checkbox\" ><label for=\"sk-estimator-id-93\" class=\"sk-toggleable__label sk-toggleable__label-arrow\">SimpleImputer</label><div class=\"sk-toggleable__content\"><pre>SimpleImputer()</pre></div></div></div></div></div></div><div class=\"sk-parallel-item\"><div class=\"sk-item\"><div class=\"sk-label-container\"><div class=\"sk-label sk-toggleable\"><input class=\"sk-toggleable__control sk-hidden--visually\" id=\"sk-estimator-id-94\" type=\"checkbox\" ><label for=\"sk-estimator-id-94\" class=\"sk-toggleable__label sk-toggleable__label-arrow\">cat</label><div class=\"sk-toggleable__content\"><pre>Index([&#x27;island&#x27;, &#x27;sex&#x27;], dtype=&#x27;object&#x27;)</pre></div></div></div><div class=\"sk-serial\"><div class=\"sk-item\"><div class=\"sk-serial\"><div class=\"sk-item\"><div class=\"sk-estimator sk-toggleable\"><input class=\"sk-toggleable__control sk-hidden--visually\" id=\"sk-estimator-id-95\" type=\"checkbox\" ><label for=\"sk-estimator-id-95\" class=\"sk-toggleable__label sk-toggleable__label-arrow\">SimpleImputer</label><div class=\"sk-toggleable__content\"><pre>SimpleImputer(strategy=&#x27;most_frequent&#x27;)</pre></div></div></div><div class=\"sk-item\"><div class=\"sk-estimator sk-toggleable\"><input class=\"sk-toggleable__control sk-hidden--visually\" id=\"sk-estimator-id-96\" type=\"checkbox\" ><label for=\"sk-estimator-id-96\" class=\"sk-toggleable__label sk-toggleable__label-arrow\">OneHotEncoder</label><div class=\"sk-toggleable__content\"><pre>OneHotEncoder()</pre></div></div></div></div></div></div></div></div></div></div><div class=\"sk-item\"><div class=\"sk-estimator sk-toggleable\"><input class=\"sk-toggleable__control sk-hidden--visually\" id=\"sk-estimator-id-97\" type=\"checkbox\" ><label for=\"sk-estimator-id-97\" class=\"sk-toggleable__label sk-toggleable__label-arrow\">DecisionTreeClassifier</label><div class=\"sk-toggleable__content\"><pre>DecisionTreeClassifier()</pre></div></div></div></div></div></div></div>"
      ],
      "text/plain": [
       "Pipeline(steps=[('columntransformer',\n",
       "                 ColumnTransformer(transformers=[('num', SimpleImputer(),\n",
       "                                                  Index(['bill_length_mm', 'bill_depth_mm', 'flipper_length_mm', 'body_mass_g'], dtype='object')),\n",
       "                                                 ('cat',\n",
       "                                                  Pipeline(steps=[('simpleimputer',\n",
       "                                                                   SimpleImputer(strategy='most_frequent')),\n",
       "                                                                  ('onehotencoder',\n",
       "                                                                   OneHotEncoder())]),\n",
       "                                                  Index(['island', 'sex'], dtype='object'))])),\n",
       "                ('decisiontreeclassifier', DecisionTreeClassifier())])"
      ]
     },
     "execution_count": 718,
     "metadata": {},
     "output_type": "execute_result"
    }
   ],
   "source": [
    "sklearn_clf.fit(X_train, y_train)"
   ]
  },
  {
   "cell_type": "code",
   "execution_count": 719,
   "id": "32c412e3",
   "metadata": {},
   "outputs": [],
   "source": [
    "y_pred = sklearn_clf.predict(X_test)"
   ]
  },
  {
   "cell_type": "code",
   "execution_count": 720,
   "id": "322125ff",
   "metadata": {},
   "outputs": [
    {
     "data": {
      "text/plain": [
       "0.9767441860465116"
      ]
     },
     "execution_count": 720,
     "metadata": {},
     "output_type": "execute_result"
    }
   ],
   "source": [
    "f1_score(y_test, y_pred, average='micro')"
   ]
  },
  {
   "cell_type": "code",
   "execution_count": 721,
   "id": "62619103",
   "metadata": {},
   "outputs": [
    {
     "data": {
      "text/plain": [
       "array([[40,  2,  0],\n",
       "       [ 0, 14,  0],\n",
       "       [ 0,  0, 30]])"
      ]
     },
     "execution_count": 721,
     "metadata": {},
     "output_type": "execute_result"
    }
   ],
   "source": [
    "confusion_matrix(y_test, y_pred)"
   ]
  },
  {
   "cell_type": "markdown",
   "id": "ec0574b7",
   "metadata": {},
   "source": [
    "# Online learning"
   ]
  },
  {
   "cell_type": "markdown",
   "id": "de7ce524",
   "metadata": {},
   "source": [
    "## Get started"
   ]
  },
  {
   "cell_type": "code",
   "execution_count": 5,
   "id": "6515cf09",
   "metadata": {},
   "outputs": [],
   "source": [
    "from river import (\n",
    "    stream,\n",
    "    compose,\n",
    "    preprocessing,\n",
    "    evaluate,\n",
    "    metrics,\n",
    "    tree,\n",
    "    imblearn,\n",
    "    stats,\n",
    ")\n",
    "import numbers\n"
   ]
  },
  {
   "cell_type": "code",
   "execution_count": 8,
   "id": "56429bdc",
   "metadata": {},
   "outputs": [],
   "source": [
    "for xi, yi in stream.iter_pandas(X, y):\n",
    "    pass"
   ]
  },
  {
   "cell_type": "code",
   "execution_count": 9,
   "id": "883f1dda",
   "metadata": {},
   "outputs": [
    {
     "data": {
      "text/plain": [
       "{'island': 'Biscoe',\n",
       " 'bill_length_mm': 49.9,\n",
       " 'bill_depth_mm': 16.1,\n",
       " 'flipper_length_mm': 213.0,\n",
       " 'body_mass_g': 5400.0,\n",
       " 'sex': 'Male'}"
      ]
     },
     "execution_count": 9,
     "metadata": {},
     "output_type": "execute_result"
    }
   ],
   "source": [
    "xi "
   ]
  },
  {
   "cell_type": "code",
   "execution_count": 10,
   "id": "b02c4a21",
   "metadata": {},
   "outputs": [
    {
     "data": {
      "text/plain": [
       "'Gentoo'"
      ]
     },
     "execution_count": 10,
     "metadata": {},
     "output_type": "execute_result"
    }
   ],
   "source": [
    "yi "
   ]
  },
  {
   "cell_type": "code",
   "execution_count": 11,
   "id": "057167ad",
   "metadata": {},
   "outputs": [
    {
     "name": "stdout",
     "output_type": "stream",
     "text": [
      "{'age': 10}\n",
      "{'age': 30}\n",
      "{'age': 20.0}\n",
      "{'age': 2}\n"
     ]
    }
   ],
   "source": [
    "X_sample = [{\"age\": 10}, {\"age\": 30}, {\"age\": None}, {\"age\": 2}]\n",
    "mean = stats.Mean()\n",
    "imputer = preprocessing.StatImputer((\"age\", mean))\n",
    "for xi_sample in X_sample:\n",
    "    imputer.learn_one(xi_sample)\n",
    "    print(imputer.transform_one(xi_sample))"
   ]
  },
  {
   "cell_type": "code",
   "execution_count": 12,
   "id": "44784196",
   "metadata": {},
   "outputs": [],
   "source": [
    "cat = (\n",
    "    compose.SelectType(object)\n",
    "    | preprocessing.StatImputer()\n",
    "    | preprocessing.OneHotEncoder(sparse=True)\n",
    ")\n",
    "num = compose.SelectType(numbers.Number) | preprocessing.StatImputer()\n",
    "preprocessor = num + cat"
   ]
  },
  {
   "cell_type": "code",
   "execution_count": 13,
   "id": "7282f6bf",
   "metadata": {},
   "outputs": [
    {
     "data": {
      "text/plain": [
       "{'island_Biscoe': 1,\n",
       " 'bill_length_mm_49.9': 1,\n",
       " 'bill_depth_mm_16.1': 1,\n",
       " 'flipper_length_mm_213.0': 1,\n",
       " 'body_mass_g_5400.0': 1,\n",
       " 'sex_Male': 1,\n",
       " 'bill_length_mm': 49.9,\n",
       " 'bill_depth_mm': 16.1,\n",
       " 'flipper_length_mm': 213.0,\n",
       " 'body_mass_g': 5400.0}"
      ]
     },
     "execution_count": 13,
     "metadata": {},
     "output_type": "execute_result"
    }
   ],
   "source": [
    "preprocessor.learn_one(xi)\n",
    "xi_transformed = preprocessor.transform_one(xi)\n",
    "xi_transformed\n"
   ]
  },
  {
   "cell_type": "code",
   "execution_count": 14,
   "id": "e039be04",
   "metadata": {},
   "outputs": [
    {
     "data": {
      "text/plain": [
       "{'n_nodes': None,\n",
       " 'n_branches': None,\n",
       " 'n_leaves': None,\n",
       " 'n_active_leaves': 0,\n",
       " 'n_inactive_leaves': 0,\n",
       " 'height': 0,\n",
       " 'total_observed_weight': 0.0}"
      ]
     },
     "execution_count": 14,
     "metadata": {},
     "output_type": "execute_result"
    }
   ],
   "source": [
    "clf = tree.HoeffdingTreeClassifier()\n",
    "clf.summary"
   ]
  },
  {
   "cell_type": "code",
   "execution_count": 15,
   "id": "a1613348",
   "metadata": {},
   "outputs": [],
   "source": [
    "def get_pipeline():\n",
    "    cat = (\n",
    "        compose.SelectType(object)\n",
    "        | preprocessing.StatImputer()\n",
    "        | preprocessing.OneHotEncoder(sparse=True)\n",
    "    )\n",
    "    num = compose.SelectType(numbers.Number) | preprocessing.StatImputer()\n",
    "    processor = num + cat\n",
    "    classifier = tree.HoeffdingTreeClassifier()\n",
    "    return processor | classifier\n"
   ]
  },
  {
   "cell_type": "code",
   "execution_count": 36,
   "id": "7822ce8e",
   "metadata": {},
   "outputs": [
    {
     "data": {
      "text/html": [
       "<div><div class=\"river-component river-pipeline\"><div class=\"river-component river-union\"><div class=\"river-component river-pipeline\"><details class=\"river-component river-estimator\"><summary class=\"river-summary\"><pre class=\"river-estimator-name\">Select(Number)</pre></summary><code class=\"river-estimator-params\">Select (\n",
       "  &lt;class 'numbers.Number'&gt;\n",
       ")\n",
       "\n",
       "</code></details><details class=\"river-component river-estimator\"><summary class=\"river-summary\"><pre class=\"river-estimator-name\">StatImputer</pre></summary><code class=\"river-estimator-params\">(\n",
       "  imputers=()\n",
       ")\n",
       "\n",
       "</code></details></div><div class=\"river-component river-pipeline\"><details class=\"river-component river-estimator\"><summary class=\"river-summary\"><pre class=\"river-estimator-name\">Select(object)</pre></summary><code class=\"river-estimator-params\">Select (\n",
       "  &lt;class 'object'&gt;\n",
       ")\n",
       "\n",
       "</code></details><details class=\"river-component river-estimator\"><summary class=\"river-summary\"><pre class=\"river-estimator-name\">StatImputer</pre></summary><code class=\"river-estimator-params\">(\n",
       "  imputers=()\n",
       ")\n",
       "\n",
       "</code></details><details class=\"river-component river-estimator\"><summary class=\"river-summary\"><pre class=\"river-estimator-name\">OneHotEncoder</pre></summary><code class=\"river-estimator-params\">(\n",
       "  sparse=True\n",
       ")\n",
       "\n",
       "</code></details></div></div><div class=\"river-component river-wrapper\"><details class=\"river-details\"><summary class=\"river-summary\"><pre class=\"river-estimator-name\">RandomSampler</pre></summary><code class=\"river-estimator-params\">(\n",
       "  classifier=HoeffdingTreeClassifier (\n",
       "    grace_period=200\n",
       "    max_depth=inf\n",
       "    split_criterion=\"info_gain\"\n",
       "    delta=1e-07\n",
       "    tau=0.05\n",
       "    leaf_prediction=\"nba\"\n",
       "    nb_threshold=0\n",
       "    nominal_attributes=None\n",
       "    splitter=GaussianSplitter (\n",
       "      n_splits=10\n",
       "    )\n",
       "    binary_split=False\n",
       "    max_size=100.\n",
       "    memory_estimate_period=1000000\n",
       "    stop_mem_management=False\n",
       "    remove_poor_attrs=False\n",
       "    merit_preprune=True\n",
       "  )\n",
       "  desired_dist={'Adelie': 0.1, 'Gentoo': 0.4, 'Chinstrap': 0.5}\n",
       "  sampling_rate=1.\n",
       "  seed=2\n",
       ")\n",
       "\n",
       "</code></details><details class=\"river-component river-estimator\"><summary class=\"river-summary\"><pre class=\"river-estimator-name\">HoeffdingTreeClassifier</pre></summary><code class=\"river-estimator-params\">(\n",
       "  grace_period=200\n",
       "  max_depth=inf\n",
       "  split_criterion=\"info_gain\"\n",
       "  delta=1e-07\n",
       "  tau=0.05\n",
       "  leaf_prediction=\"nba\"\n",
       "  nb_threshold=0\n",
       "  nominal_attributes=None\n",
       "  splitter=GaussianSplitter (\n",
       "    n_splits=10\n",
       "  )\n",
       "  binary_split=False\n",
       "  max_size=100.\n",
       "  memory_estimate_period=1000000\n",
       "  stop_mem_management=False\n",
       "  remove_poor_attrs=False\n",
       "  merit_preprune=True\n",
       ")\n",
       "\n",
       "</code></details></div></div><style scoped>\n",
       ".river-estimator {\n",
       "    padding: 1em;\n",
       "    border-style: solid;\n",
       "    background: white;\n",
       "}\n",
       "\n",
       ".river-pipeline {\n",
       "    display: flex;\n",
       "    flex-direction: column;\n",
       "    align-items: center;\n",
       "    background: linear-gradient(#000, #000) no-repeat center / 3px 100%;\n",
       "}\n",
       "\n",
       ".river-union {\n",
       "    display: flex;\n",
       "    flex-direction: row;\n",
       "    align-items: center;\n",
       "    justify-content: center;\n",
       "    padding: 1em;\n",
       "    border-style: solid;\n",
       "    background: white;\n",
       "}\n",
       "\n",
       ".river-wrapper {\n",
       "    display: flex;\n",
       "    flex-direction: column;\n",
       "    align-items: center;\n",
       "    justify-content: center;\n",
       "    padding: 1em;\n",
       "    border-style: solid;\n",
       "    background: white;\n",
       "}\n",
       "\n",
       ".river-wrapper > .river-estimator {\n",
       "    margin-top: 1em;\n",
       "}\n",
       "\n",
       "/* Vertical spacing between steps */\n",
       "\n",
       ".river-component + .river-component {\n",
       "    margin-top: 2em;\n",
       "}\n",
       "\n",
       ".river-union > .river-estimator {\n",
       "    margin-top: 0;\n",
       "}\n",
       "\n",
       ".river-union > .pipeline {\n",
       "    margin-top: 0;\n",
       "}\n",
       "\n",
       "/* Spacing within a union of estimators */\n",
       "\n",
       ".river-union > .river-component + .river-component {\n",
       "    margin-left: 1em;\n",
       "}\n",
       "\n",
       "/* Typography */\n",
       "\n",
       ".river-estimator-params {\n",
       "    display: block;\n",
       "    white-space: pre-wrap;\n",
       "    font-size: 120%;\n",
       "    margin-bottom: -1em;\n",
       "}\n",
       "\n",
       ".river-estimator > .river-estimator-params,\n",
       ".river-wrapper > .river-details > river-estimator-params {\n",
       "    background-color: white !important;\n",
       "}\n",
       "\n",
       ".river-estimator-name {\n",
       "    display: inline;\n",
       "    margin: 0;\n",
       "    font-size: 130%;\n",
       "}\n",
       "\n",
       "/* Toggle */\n",
       "\n",
       ".river-summary {\n",
       "    display: flex;\n",
       "    align-items:center;\n",
       "    cursor: pointer;\n",
       "}\n",
       "\n",
       ".river-summary > div {\n",
       "    width: 100%;\n",
       "}\n",
       "</style></div>"
      ],
      "text/plain": [
       "Pipeline (\n",
       "  TransformerUnion (\n",
       "    Pipeline (\n",
       "      Select (\n",
       "        <class 'numbers.Number'>\n",
       "      ),\n",
       "      StatImputer (\n",
       "        imputers=()\n",
       "      )\n",
       "    ),\n",
       "    Pipeline (\n",
       "      Select (\n",
       "        <class 'object'>\n",
       "      ),\n",
       "      StatImputer (\n",
       "        imputers=()\n",
       "      ),\n",
       "      OneHotEncoder (\n",
       "        sparse=True\n",
       "      )\n",
       "    )\n",
       "  ),\n",
       "  RandomSampler (\n",
       "    classifier=HoeffdingTreeClassifier (\n",
       "      grace_period=200\n",
       "      max_depth=inf\n",
       "      split_criterion=\"info_gain\"\n",
       "      delta=1e-07\n",
       "      tau=0.05\n",
       "      leaf_prediction=\"nba\"\n",
       "      nb_threshold=0\n",
       "      nominal_attributes=None\n",
       "      splitter=GaussianSplitter (\n",
       "        n_splits=10\n",
       "      )\n",
       "      binary_split=False\n",
       "      max_size=100.\n",
       "      memory_estimate_period=1000000\n",
       "      stop_mem_management=False\n",
       "      remove_poor_attrs=False\n",
       "      merit_preprune=True\n",
       "    )\n",
       "    desired_dist={'Adelie': 0.1, 'Gentoo': 0.4, 'Chinstrap': 0.5}\n",
       "    sampling_rate=1.\n",
       "    seed=2\n",
       "  )\n",
       ")"
      ]
     },
     "execution_count": 36,
     "metadata": {},
     "output_type": "execute_result"
    }
   ],
   "source": [
    "pipeline = get_pipeline()\n",
    "pipeline"
   ]
  },
  {
   "cell_type": "code",
   "execution_count": 19,
   "id": "d1d83196",
   "metadata": {},
   "outputs": [],
   "source": [
    "def train(X, y):\n",
    "    pipeline = get_pipeline()\n",
    "\n",
    "    # Initialize metrics \n",
    "    f1_score = metrics.MicroF1()\n",
    "    cm = metrics.ConfusionMatrix()\n",
    "\n",
    "    f1_scores = []\n",
    "\n",
    "    # Iterate over the dataset\n",
    "    for xi, yi in stream.iter_pandas(X, y, shuffle=True, seed=1):\n",
    "        # Predict the new sample\n",
    "        yi_pred = pipeline.predict_one(xi)\n",
    "\n",
    "        # Get the score\n",
    "        if yi_pred is not None:\n",
    "            f1_score.update(yi, yi_pred)\n",
    "            f1_scores.append(f1_score.get() * 100)\n",
    "            cm.update(yi, yi_pred)\n",
    "\n",
    "        # Train the model with the new sample\n",
    "        pipeline.learn_one(xi, yi)\n",
    "\n",
    "    return f1_scores, cm, pipeline\n",
    "\n",
    "\n",
    "f1_scores, cm, pipeline = train(X, y)\n"
   ]
  },
  {
   "cell_type": "code",
   "execution_count": 22,
   "id": "ea59dbbb",
   "metadata": {},
   "outputs": [
    {
     "data": {
      "text/plain": [
       "{'n_nodes': 1,\n",
       " 'n_branches': 0,\n",
       " 'n_leaves': 1,\n",
       " 'n_active_leaves': 1,\n",
       " 'n_inactive_leaves': 0,\n",
       " 'height': 1,\n",
       " 'total_observed_weight': 344.0}"
      ]
     },
     "execution_count": 22,
     "metadata": {},
     "output_type": "execute_result"
    }
   ],
   "source": [
    "pipeline.steps['HoeffdingTreeClassifier'].summary"
   ]
  },
  {
   "cell_type": "code",
   "execution_count": 25,
   "id": "d70e75a4",
   "metadata": {},
   "outputs": [
    {
     "data": {
      "image/png": "[encoded data removed]",
      "text/plain": [
       "<Figure size 432x288 with 1 Axes>"
      ]
     },
     "metadata": {
      "needs_background": "light"
     },
     "output_type": "display_data"
    }
   ],
   "source": [
    "import matplotlib.pyplot as plt\n",
    "\n",
    "\n",
    "def plot(scores: list):\n",
    "    # plt.figure(figsize=(8, 6), dpi=80)\n",
    "    iters = range(len(scores))\n",
    "    ax = sns.lineplot(x=iters, y=scores)\n",
    "    ax.set(xlabel=\"num_iters\", ylabel=\"score\")\n",
    "    plt.show()\n",
    "\n",
    "\n",
    "plot(f1_scores)\n"
   ]
  },
  {
   "cell_type": "code",
   "execution_count": 26,
   "id": "9ed9221f",
   "metadata": {},
   "outputs": [
    {
     "name": "stdout",
     "output_type": "stream",
     "text": [
      "[50] MicroF1: 73.47%\n",
      "[100] MicroF1: 84.85%\n",
      "[150] MicroF1: 88.59%\n",
      "[200] MicroF1: 83.42%\n",
      "[250] MicroF1: 74.70%\n",
      "[300] MicroF1: 68.90%\n"
     ]
    },
    {
     "data": {
      "text/plain": [
       "MicroF1: 64.72%"
      ]
     },
     "execution_count": 26,
     "metadata": {},
     "output_type": "execute_result"
    }
   ],
   "source": [
    "pipeline = get_pipeline()\n",
    "\n",
    "metric = metrics.MicroF1()\n",
    "\n",
    "evaluate.progressive_val_score(\n",
    "    dataset=stream.iter_pandas(X, y, shuffle=True, seed=1),\n",
    "    model=pipeline,\n",
    "    metric=metric,\n",
    "    print_every=50,\n",
    ")\n"
   ]
  },
  {
   "cell_type": "code",
   "execution_count": 27,
   "id": "f0304b19",
   "metadata": {},
   "outputs": [
    {
     "data": {
      "text/plain": [
       "            Adelie   Chinstrap   Gentoo  \n",
       "   Adelie      143           8        0  \n",
       "Chinstrap       44          22        2  \n",
       "   Gentoo       66           1       57  "
      ]
     },
     "execution_count": 27,
     "metadata": {},
     "output_type": "execute_result"
    }
   ],
   "source": [
    "cm "
   ]
  },
  {
   "cell_type": "code",
   "execution_count": 38,
   "id": "36098023",
   "metadata": {},
   "outputs": [
    {
     "data": {
      "text/plain": [
       "Adelie       0.441860\n",
       "Gentoo       0.360465\n",
       "Chinstrap    0.197674\n",
       "Name: species, dtype: float64"
      ]
     },
     "execution_count": 38,
     "metadata": {},
     "output_type": "execute_result"
    }
   ],
   "source": [
    "y.value_counts(normalize=True)"
   ]
  },
  {
   "cell_type": "code",
   "execution_count": 37,
   "id": "5a7aab6d",
   "metadata": {},
   "outputs": [
    {
     "data": {
      "text/plain": [
       "Adelie       152\n",
       "Gentoo       124\n",
       "Chinstrap     68\n",
       "Name: species, dtype: int64"
      ]
     },
     "execution_count": 37,
     "metadata": {},
     "output_type": "execute_result"
    }
   ],
   "source": [
    "y.value_counts()"
   ]
  },
  {
   "cell_type": "markdown",
   "id": "616b8154",
   "metadata": {},
   "source": [
    "### Deal with Unbalanced Data"
   ]
  },
  {
   "cell_type": "code",
   "execution_count": null,
   "id": "e1782dd7",
   "metadata": {},
   "outputs": [],
   "source": [
    "classifier = tree.HoeffdingTreeClassifier()\n",
    "sampler = imblearn.RandomSampler(\n",
    "    classifier=classifier,\n",
    "    desired_dist={\"Adelie\": 0.1, \"Gentoo\": 0.4, \"Chinstrap\": 0.5},\n",
    "    seed=2,\n",
    ")"
   ]
  },
  {
   "cell_type": "code",
   "execution_count": 28,
   "id": "e4843b84",
   "metadata": {},
   "outputs": [],
   "source": [
    "def get_pipeline():\n",
    "    cat = (\n",
    "        compose.SelectType(object)\n",
    "        | preprocessing.StatImputer()\n",
    "        | preprocessing.OneHotEncoder(sparse=True)\n",
    "    )\n",
    "    num = compose.SelectType(numbers.Number) | preprocessing.StatImputer()\n",
    "    classifier = tree.HoeffdingTreeClassifier()\n",
    "    sampler = imblearn.RandomSampler(\n",
    "            classifier=classifier,\n",
    "            desired_dist={\"Adelie\": 0.1, \"Gentoo\": 0.4, \"Chinstrap\": 0.5},\n",
    "            seed=2,\n",
    "        )\n",
    "    return (num + cat) | sampler\n"
   ]
  },
  {
   "cell_type": "code",
   "execution_count": 29,
   "id": "154cc983",
   "metadata": {},
   "outputs": [
    {
     "data": {
      "image/png": "[encoded data removed]",
      "text/plain": [
       "<Figure size 432x288 with 1 Axes>"
      ]
     },
     "metadata": {
      "needs_background": "light"
     },
     "output_type": "display_data"
    }
   ],
   "source": [
    "f1_scores, cm, pipeline= train(X, y)\n",
    "plot(f1_scores)"
   ]
  },
  {
   "cell_type": "code",
   "execution_count": 30,
   "id": "4fad5751",
   "metadata": {},
   "outputs": [
    {
     "data": {
      "text/plain": [
       "            Adelie   Chinstrap   Gentoo  \n",
       "   Adelie      111          37        3  \n",
       "Chinstrap        5          62        1  \n",
       "   Gentoo        5           6      113  "
      ]
     },
     "execution_count": 30,
     "metadata": {},
     "output_type": "execute_result"
    }
   ],
   "source": [
    "cm "
   ]
  },
  {
   "cell_type": "code",
   "execution_count": 31,
   "id": "feb34134",
   "metadata": {},
   "outputs": [
    {
     "name": "stdout",
     "output_type": "stream",
     "text": [
      "[50] MicroF1: 42.86%\n",
      "[100] MicroF1: 67.68%\n",
      "[150] MicroF1: 75.17%\n",
      "[200] MicroF1: 75.88%\n",
      "[250] MicroF1: 80.32%\n",
      "[300] MicroF1: 82.61%\n"
     ]
    },
    {
     "data": {
      "text/plain": [
       "MicroF1: 83.38%"
      ]
     },
     "execution_count": 31,
     "metadata": {},
     "output_type": "execute_result"
    }
   ],
   "source": [
    "pipeline = get_pipeline()\n",
    "\n",
    "metric = metrics.MicroF1()\n",
    "\n",
    "evaluate.progressive_val_score(\n",
    "    dataset=stream.iter_pandas(X, y, shuffle=True, seed=1),\n",
    "    model=pipeline,\n",
    "    metric=metric,\n",
    "    print_every=50,\n",
    ")\n"
   ]
  }
 ],
 "metadata": {
  "hide_input": false,
  "kernelspec": {
   "display_name": "Python 3.9.15 ('venv': venv)",
   "language": "python",
   "name": "python3"
  },
  "language_info": {
   "codemirror_mode": {
    "name": "ipython",
    "version": 3
   },
   "file_extension": ".py",
   "mimetype": "text/x-python",
   "name": "python",
   "nbconvert_exporter": "python",
   "pygments_lexer": "ipython3",
   "version": "3.9.15"
  },
  "toc": {
   "base_numbering": 1,
   "nav_menu": {},
   "number_sections": true,
   "sideBar": true,
   "skip_h1_title": false,
   "title_cell": "Table of Contents",
   "title_sidebar": "Contents",
   "toc_cell": false,
   "toc_position": {},
   "toc_section_display": true,
   "toc_window_display": false
  },
  "vscode": {
   "interpreter": {
    "hash": "478cc5ef0f338997730d9103983e193fe6c3c8e58abb3c8c0481de8a2f51bddc"
   }
  }
 },
 "nbformat": 4,
 "nbformat_minor": 5
}
